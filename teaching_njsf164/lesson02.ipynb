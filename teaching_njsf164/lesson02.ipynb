{
 "cells": [
  {
   "cell_type": "code",
   "execution_count": 1,
   "metadata": {},
   "outputs": [
    {
     "name": "stderr",
     "output_type": "stream",
     "text": [
      "2024-12-04 10:36:48.468671: E external/local_xla/xla/stream_executor/cuda/cuda_fft.cc:485] Unable to register cuFFT factory: Attempting to register factory for plugin cuFFT when one has already been registered\n",
      "2024-12-04 10:36:48.480312: E external/local_xla/xla/stream_executor/cuda/cuda_dnn.cc:8454] Unable to register cuDNN factory: Attempting to register factory for plugin cuDNN when one has already been registered\n",
      "2024-12-04 10:36:48.483837: E external/local_xla/xla/stream_executor/cuda/cuda_blas.cc:1452] Unable to register cuBLAS factory: Attempting to register factory for plugin cuBLAS when one has already been registered\n"
     ]
    },
    {
     "name": "stdout",
     "output_type": "stream",
     "text": [
      "1 Physical GPUs, 1 Logical GPUs\n",
      "[PhysicalDevice(name='/physical_device:GPU:0', device_type='GPU')]\n",
      "Wed Dec  4 10:36:51 2024       \n",
      "+-----------------------------------------------------------------------------------------+\n",
      "| NVIDIA-SMI 555.42.06              Driver Version: 555.42.06      CUDA Version: 12.5     |\n",
      "|-----------------------------------------+------------------------+----------------------+\n",
      "| GPU  Name                 Persistence-M | Bus-Id          Disp.A | Volatile Uncorr. ECC |\n",
      "| Fan  Temp   Perf          Pwr:Usage/Cap |           Memory-Usage | GPU-Util  Compute M. |\n",
      "|                                         |                        |               MIG M. |\n",
      "|=========================================+========================+======================|\n",
      "|   0  NVIDIA L40S                    Off |   00000000:41:00.0 Off |                    0 |\n",
      "| N/A   40C    P0             33W /  350W |     498MiB /  46068MiB |      0%      Default |\n",
      "|                                         |                        |                  N/A |\n",
      "+-----------------------------------------+------------------------+----------------------+\n",
      "                                                                                         \n",
      "+-----------------------------------------------------------------------------------------+\n",
      "| Processes:                                                                              |\n",
      "|  GPU   GI   CI        PID   Type   Process name                              GPU Memory |\n",
      "|        ID   ID                                                               Usage      |\n",
      "|=========================================================================================|\n",
      "|    0   N/A  N/A    244317      C   nvidia-cuda-mps-server                         28MiB |\n",
      "|    0   N/A  N/A    322971      C   nvidia-cuda-mps-server                         28MiB |\n",
      "|    0   N/A  N/A    323575      C   python                                        424MiB |\n",
      "+-----------------------------------------------------------------------------------------+\n"
     ]
    }
   ],
   "source": [
    "import os\n",
    "os.environ['TF_CPP_MIN_LOG_LEVEL'] = '1'\n",
    "\n",
    "import tensorflow as tf\n",
    "gpus = tf.config.list_physical_devices('GPU')\n",
    "## limit the memory ussage of GPU\n",
    "if gpus:\n",
    "    # Restrict TensorFlow to only allocate 1GB of memory on the first GPU\n",
    "    try:\n",
    "        tf.config.set_logical_device_configuration(\n",
    "        gpus[0],\n",
    "        [tf.config.LogicalDeviceConfiguration(memory_limit=4096)])\n",
    "        logical_gpus = tf.config.list_logical_devices('GPU')\n",
    "        print(len(gpus), \"Physical GPUs,\", len(logical_gpus), \"Logical GPUs\")\n",
    "    except RuntimeError as e:\n",
    "        # Virtual devices must be set before GPUs have been initialized\n",
    "        print(e)\n",
    "\n",
    "print(tf.config.list_physical_devices('GPU'))\n",
    "! nvidia-smi"
   ]
  },
  {
   "cell_type": "code",
   "execution_count": 2,
   "metadata": {},
   "outputs": [
    {
     "name": "stdout",
     "output_type": "stream",
     "text": [
      "223950\n",
      "243580\n"
     ]
    },
    {
     "data": {
      "image/png": "[encoded data removed]",
      "text/plain": [
       "<Figure size 640x480 with 1 Axes>"
      ]
     },
     "metadata": {},
     "output_type": "display_data"
    }
   ],
   "source": [
    "# label,weight,mva_random_number,n_electrons,n_jets,n_jets_30,n_jets_40,n_muons,n_taus,tau_0_p4.Pt,tau_0_p4.Eta,tau_0_p4.Phi,tau_1_p4.Pt,tau_1_p4.Eta,tau_1_p4.Phi,ditau_deta,ditau_dphi,ditau_dr,ditau_higgspt,ditau_mmc_mlm_m,ditau_scal_sum_pt,jet_0_p4.Pt,jet_0_p4.Eta,jet_0_p4.Phi,jet_1_p4.Pt,jet_1_p4.Eta,jet_1_p4.Phi,dijet_p4.Pt,dijet_p4.Eta,dijet_p4.Phi,dijet_p4.M,dijet_dPhi,dijet_dr,jet_0_p4.Eta-jet_1_p4.Eta,pt_total,scalar_sum_pt,met_p4.Pt\n",
    "\n",
    "import pandas as pd\n",
    "dataframe = pd.read_csv('/scratch/ucjf-atlas/njsf164/data_higgs.csv')\n",
    "\n",
    "sig_dataframe = dataframe[ dataframe['label'] == 1  ]\n",
    "bkg_dataframe = dataframe[ dataframe['label'] == 0  ]\n",
    "\n",
    "sig_dataframe['ditau_mmc_mlm_m'].hist(bins=50, range=(0,200), histtype='step', label='Signal')\n",
    "bkg_dataframe['ditau_mmc_mlm_m'].hist(bins=50, range=(0,200), histtype='step', label='Bkg')\n",
    "\n",
    "print(len(sig_dataframe))\n",
    "print(len(bkg_dataframe))\n",
    "\n"
   ]
  },
  {
   "cell_type": "code",
   "execution_count": 3,
   "metadata": {},
   "outputs": [
    {
     "name": "stdout",
     "output_type": "stream",
     "text": [
      "(<tf.Tensor: shape=(1024, 26), dtype=float64, numpy=\n",
      "array([[101.184   ,  -0.388817,   2.86892 , ...,   1.      ,   0.      ,\n",
      "          1.      ],\n",
      "       [ 74.7268  ,   1.124   ,   2.92221 , ...,   1.      ,   1.      ,\n",
      "          0.      ],\n",
      "       [ 71.2194  ,  -0.569922,  -0.450067, ...,   0.      ,   0.      ,\n",
      "          2.      ],\n",
      "       ...,\n",
      "       [ 56.6415  ,  -1.10455 ,  -1.66083 , ...,   0.      ,   0.      ,\n",
      "          2.      ],\n",
      "       [ 65.8255  ,  -1.91543 ,   2.02523 , ...,   0.      ,   1.      ,\n",
      "          1.      ],\n",
      "       [ 95.3743  ,  -0.941316,  -1.395   , ...,   1.      ,   0.      ,\n",
      "          1.      ]])>, <tf.Tensor: shape=(1024,), dtype=int64, numpy=array([1, 0, 1, ..., 1, 0, 1])>)\n"
     ]
    }
   ],
   "source": [
    "variables = [\n",
    "  'tau_0_p4.Pt',\n",
    "  'tau_0_p4.Eta',\n",
    "  'tau_0_p4.Phi',\n",
    "  'tau_1_p4.Pt',\n",
    "  'tau_1_p4.Eta',\n",
    "  'tau_1_p4.Phi',\n",
    "  'jet_0_p4.Pt',\n",
    "  'jet_0_p4.Eta',\n",
    "  'jet_0_p4.Phi',\n",
    "  'jet_1_p4.Pt',\n",
    "  'jet_1_p4.Eta',\n",
    "  'jet_1_p4.Phi',\n",
    "  'ditau_deta',\n",
    "  'ditau_dphi',\n",
    "  'ditau_dr',\n",
    "  'ditau_higgspt',\n",
    "  'ditau_mmc_mlm_m',\n",
    "  'dijet_p4.Pt',\n",
    "  'dijet_p4.M',\n",
    "  'met_p4.Pt',\n",
    "  'n_jets',\n",
    "  'n_jets_30',\n",
    "  'n_jets_40',\n",
    "  'n_muons',\n",
    "  'n_electrons',\n",
    "  'n_taus',\n",
    "]\n",
    "\n",
    "sig_dataframe_sel = sig_dataframe[variables].to_numpy()\n",
    "bkg_dataframe_sel = bkg_dataframe[variables].to_numpy()\n",
    "\n",
    "sig_dataframe_label = sig_dataframe['label'].to_numpy()\n",
    "bkg_dataframe_label = bkg_dataframe['label'].to_numpy()\n",
    "\n",
    "# add to the dataset\n",
    "dataset_sig = tf.data.Dataset.from_tensor_slices( (sig_dataframe_sel, sig_dataframe_label) )\n",
    "dataset_bkg = tf.data.Dataset.from_tensor_slices( (bkg_dataframe_sel, bkg_dataframe_label) )\n",
    "\n",
    "# dataset = tf.data.Dataset.from_tensor_slices( (dataframe[variables].to_numpy(), dataframe['label'].to_numpy()) )\n",
    "\n",
    "dataset = tf.data.Dataset.sample_from_datasets([dataset_sig, dataset_bkg], [0.5, 0.5], stop_on_empty_dataset=True)\n",
    "\n",
    "batch_size = 1024\n",
    "dataset_batched = dataset.batch(batch_size)\n",
    "\n",
    "for x in dataset_batched.take(1):\n",
    "    print(x)\n",
    "\n",
    "# split the dataset into training and validation\n",
    "n_train = int(0.8 * len(dataframe))\n",
    "n_val = len(dataframe) - n_train\n",
    "\n",
    "dataset_train = dataset_batched.take(n_train//batch_size)\n",
    "dataset_val = dataset_batched.skip(n_train//batch_size)"
   ]
  },
  {
   "cell_type": "code",
   "execution_count": 4,
   "metadata": {},
   "outputs": [
    {
     "data": {
      "text/html": [
       "<pre style=\"white-space:pre;overflow-x:auto;line-height:normal;font-family:Menlo,'DejaVu Sans Mono',consolas,'Courier New',monospace\"><span style=\"font-weight: bold\">Model: \"functional\"</span>\n",
       "</pre>\n"
      ],
      "text/plain": [
       "\u001b[1mModel: \"functional\"\u001b[0m\n"
      ]
     },
     "metadata": {},
     "output_type": "display_data"
    },
    {
     "data": {
      "text/html": [
       "<pre style=\"white-space:pre;overflow-x:auto;line-height:normal;font-family:Menlo,'DejaVu Sans Mono',consolas,'Courier New',monospace\">┏━━━━━━━━━━━━━━━━━━━━━━━━━━━━━━━━━┳━━━━━━━━━━━━━━━━━━━━━━━━┳━━━━━━━━━━━━━━━┓\n",
       "┃<span style=\"font-weight: bold\"> Layer (type)                    </span>┃<span style=\"font-weight: bold\"> Output Shape           </span>┃<span style=\"font-weight: bold\">       Param # </span>┃\n",
       "┡━━━━━━━━━━━━━━━━━━━━━━━━━━━━━━━━━╇━━━━━━━━━━━━━━━━━━━━━━━━╇━━━━━━━━━━━━━━━┩\n",
       "│ input_layer (<span style=\"color: #0087ff; text-decoration-color: #0087ff\">InputLayer</span>)        │ (<span style=\"color: #00d7ff; text-decoration-color: #00d7ff\">None</span>, <span style=\"color: #00af00; text-decoration-color: #00af00\">26</span>)             │             <span style=\"color: #00af00; text-decoration-color: #00af00\">0</span> │\n",
       "├─────────────────────────────────┼────────────────────────┼───────────────┤\n",
       "│ normalization (<span style=\"color: #0087ff; text-decoration-color: #0087ff\">Normalization</span>)   │ (<span style=\"color: #00d7ff; text-decoration-color: #00d7ff\">None</span>, <span style=\"color: #00af00; text-decoration-color: #00af00\">26</span>)             │            <span style=\"color: #00af00; text-decoration-color: #00af00\">53</span> │\n",
       "├─────────────────────────────────┼────────────────────────┼───────────────┤\n",
       "│ dense (<span style=\"color: #0087ff; text-decoration-color: #0087ff\">Dense</span>)                   │ (<span style=\"color: #00d7ff; text-decoration-color: #00d7ff\">None</span>, <span style=\"color: #00af00; text-decoration-color: #00af00\">25</span>)             │           <span style=\"color: #00af00; text-decoration-color: #00af00\">675</span> │\n",
       "├─────────────────────────────────┼────────────────────────┼───────────────┤\n",
       "│ dense_1 (<span style=\"color: #0087ff; text-decoration-color: #0087ff\">Dense</span>)                 │ (<span style=\"color: #00d7ff; text-decoration-color: #00d7ff\">None</span>, <span style=\"color: #00af00; text-decoration-color: #00af00\">25</span>)             │           <span style=\"color: #00af00; text-decoration-color: #00af00\">650</span> │\n",
       "├─────────────────────────────────┼────────────────────────┼───────────────┤\n",
       "│ dense_2 (<span style=\"color: #0087ff; text-decoration-color: #0087ff\">Dense</span>)                 │ (<span style=\"color: #00d7ff; text-decoration-color: #00d7ff\">None</span>, <span style=\"color: #00af00; text-decoration-color: #00af00\">25</span>)             │           <span style=\"color: #00af00; text-decoration-color: #00af00\">650</span> │\n",
       "├─────────────────────────────────┼────────────────────────┼───────────────┤\n",
       "│ dense_3 (<span style=\"color: #0087ff; text-decoration-color: #0087ff\">Dense</span>)                 │ (<span style=\"color: #00d7ff; text-decoration-color: #00d7ff\">None</span>, <span style=\"color: #00af00; text-decoration-color: #00af00\">25</span>)             │           <span style=\"color: #00af00; text-decoration-color: #00af00\">650</span> │\n",
       "├─────────────────────────────────┼────────────────────────┼───────────────┤\n",
       "│ dense_4 (<span style=\"color: #0087ff; text-decoration-color: #0087ff\">Dense</span>)                 │ (<span style=\"color: #00d7ff; text-decoration-color: #00d7ff\">None</span>, <span style=\"color: #00af00; text-decoration-color: #00af00\">1</span>)              │            <span style=\"color: #00af00; text-decoration-color: #00af00\">26</span> │\n",
       "└─────────────────────────────────┴────────────────────────┴───────────────┘\n",
       "</pre>\n"
      ],
      "text/plain": [
       "┏━━━━━━━━━━━━━━━━━━━━━━━━━━━━━━━━━┳━━━━━━━━━━━━━━━━━━━━━━━━┳━━━━━━━━━━━━━━━┓\n",
       "┃\u001b[1m \u001b[0m\u001b[1mLayer (type)                   \u001b[0m\u001b[1m \u001b[0m┃\u001b[1m \u001b[0m\u001b[1mOutput Shape          \u001b[0m\u001b[1m \u001b[0m┃\u001b[1m \u001b[0m\u001b[1m      Param #\u001b[0m\u001b[1m \u001b[0m┃\n",
       "┡━━━━━━━━━━━━━━━━━━━━━━━━━━━━━━━━━╇━━━━━━━━━━━━━━━━━━━━━━━━╇━━━━━━━━━━━━━━━┩\n",
       "│ input_layer (\u001b[38;5;33mInputLayer\u001b[0m)        │ (\u001b[38;5;45mNone\u001b[0m, \u001b[38;5;34m26\u001b[0m)             │             \u001b[38;5;34m0\u001b[0m │\n",
       "├─────────────────────────────────┼────────────────────────┼───────────────┤\n",
       "│ normalization (\u001b[38;5;33mNormalization\u001b[0m)   │ (\u001b[38;5;45mNone\u001b[0m, \u001b[38;5;34m26\u001b[0m)             │            \u001b[38;5;34m53\u001b[0m │\n",
       "├─────────────────────────────────┼────────────────────────┼───────────────┤\n",
       "│ dense (\u001b[38;5;33mDense\u001b[0m)                   │ (\u001b[38;5;45mNone\u001b[0m, \u001b[38;5;34m25\u001b[0m)             │           \u001b[38;5;34m675\u001b[0m │\n",
       "├─────────────────────────────────┼────────────────────────┼───────────────┤\n",
       "│ dense_1 (\u001b[38;5;33mDense\u001b[0m)                 │ (\u001b[38;5;45mNone\u001b[0m, \u001b[38;5;34m25\u001b[0m)             │           \u001b[38;5;34m650\u001b[0m │\n",
       "├─────────────────────────────────┼────────────────────────┼───────────────┤\n",
       "│ dense_2 (\u001b[38;5;33mDense\u001b[0m)                 │ (\u001b[38;5;45mNone\u001b[0m, \u001b[38;5;34m25\u001b[0m)             │           \u001b[38;5;34m650\u001b[0m │\n",
       "├─────────────────────────────────┼────────────────────────┼───────────────┤\n",
       "│ dense_3 (\u001b[38;5;33mDense\u001b[0m)                 │ (\u001b[38;5;45mNone\u001b[0m, \u001b[38;5;34m25\u001b[0m)             │           \u001b[38;5;34m650\u001b[0m │\n",
       "├─────────────────────────────────┼────────────────────────┼───────────────┤\n",
       "│ dense_4 (\u001b[38;5;33mDense\u001b[0m)                 │ (\u001b[38;5;45mNone\u001b[0m, \u001b[38;5;34m1\u001b[0m)              │            \u001b[38;5;34m26\u001b[0m │\n",
       "└─────────────────────────────────┴────────────────────────┴───────────────┘\n"
      ]
     },
     "metadata": {},
     "output_type": "display_data"
    },
    {
     "data": {
      "text/html": [
       "<pre style=\"white-space:pre;overflow-x:auto;line-height:normal;font-family:Menlo,'DejaVu Sans Mono',consolas,'Courier New',monospace\"><span style=\"font-weight: bold\"> Total params: </span><span style=\"color: #00af00; text-decoration-color: #00af00\">2,704</span> (10.57 KB)\n",
       "</pre>\n"
      ],
      "text/plain": [
       "\u001b[1m Total params: \u001b[0m\u001b[38;5;34m2,704\u001b[0m (10.57 KB)\n"
      ]
     },
     "metadata": {},
     "output_type": "display_data"
    },
    {
     "data": {
      "text/html": [
       "<pre style=\"white-space:pre;overflow-x:auto;line-height:normal;font-family:Menlo,'DejaVu Sans Mono',consolas,'Courier New',monospace\"><span style=\"font-weight: bold\"> Trainable params: </span><span style=\"color: #00af00; text-decoration-color: #00af00\">2,651</span> (10.36 KB)\n",
       "</pre>\n"
      ],
      "text/plain": [
       "\u001b[1m Trainable params: \u001b[0m\u001b[38;5;34m2,651\u001b[0m (10.36 KB)\n"
      ]
     },
     "metadata": {},
     "output_type": "display_data"
    },
    {
     "data": {
      "text/html": [
       "<pre style=\"white-space:pre;overflow-x:auto;line-height:normal;font-family:Menlo,'DejaVu Sans Mono',consolas,'Courier New',monospace\"><span style=\"font-weight: bold\"> Non-trainable params: </span><span style=\"color: #00af00; text-decoration-color: #00af00\">53</span> (216.00 B)\n",
       "</pre>\n"
      ],
      "text/plain": [
       "\u001b[1m Non-trainable params: \u001b[0m\u001b[38;5;34m53\u001b[0m (216.00 B)\n"
      ]
     },
     "metadata": {},
     "output_type": "display_data"
    }
   ],
   "source": [
    "## Building the model\n",
    "\n",
    "# normalizer\n",
    "def pick_data( data, label ):\n",
    "    return data\n",
    "\n",
    "normalizer = tf.keras.layers.Normalization()\n",
    "normalizer.adapt(dataset_train.map(pick_data))\n",
    "\n",
    "HIDDEN_LAYER_SIZE = 100\n",
    "N_LAYERS = 4\n",
    "\n",
    "# 1. define the input and output layer\n",
    "input = tf.keras.layers.Input(shape=(len(variables),) )\n",
    "layer = normalizer(input)\n",
    "for i in range(N_LAYERS):\n",
    "  layer = tf.keras.layers.Dense(HIDDEN_LAYER_SIZE//N_LAYERS, activation='relu')(layer)\n",
    "\n",
    "layer = tf.keras.layers.Dense(1, activation='sigmoid')(layer)\n",
    "\n",
    "model = tf.keras.models.Model(inputs=input, outputs=layer)\n",
    "\n",
    "# learning rate decay\n",
    "initial_learning_rate = 0.001\n",
    "N_EPOCHS = 10\n",
    "learning_rate = tf.keras.optimizers.schedules.CosineDecay(\n",
    "    initial_learning_rate = initial_learning_rate,\n",
    "    decay_steps = N_EPOCHS * n_train // batch_size,\n",
    "    alpha = 0.01 * initial_learning_rate)\n",
    "\n",
    "# 2. compile the model\n",
    "model.compile(\n",
    "    optimizer=tf.optimizers.Adam(learning_rate=learning_rate),\n",
    "    loss=tf.losses.BinaryCrossentropy(),\n",
    "    metrics=[tf.metrics.BinaryAccuracy(), tf.metrics.Recall(), tf.metrics.Precision()]\n",
    ")\n",
    "\n",
    "model.summary()"
   ]
  },
  {
   "cell_type": "code",
   "execution_count": 5,
   "metadata": {},
   "outputs": [
    {
     "name": "stdout",
     "output_type": "stream",
     "text": [
      "Epoch 1/10\n"
     ]
    },
    {
     "name": "stderr",
     "output_type": "stream",
     "text": [
      "WARNING: All log messages before absl::InitializeLog() is called are written to STDERR\n",
      "I0000 00:00:1733305019.663772  323631 service.cc:146] XLA service 0x7f1ec80050f0 initialized for platform CUDA (this does not guarantee that XLA will be used). Devices:\n",
      "I0000 00:00:1733305019.663800  323631 service.cc:154]   StreamExecutor device (0): NVIDIA L40S, Compute Capability 8.9\n"
     ]
    },
    {
     "name": "stdout",
     "output_type": "stream",
     "text": [
      "     23/Unknown \u001b[1m4s\u001b[0m 7ms/step - binary_accuracy: 0.5256 - loss: 0.6979 - precision: 0.5151 - recall: 0.9660"
     ]
    },
    {
     "name": "stderr",
     "output_type": "stream",
     "text": [
      "I0000 00:00:1733305022.327180  323631 device_compiler.h:188] Compiled cluster using XLA!  This line is logged at most once for the lifetime of the process.\n"
     ]
    },
    {
     "name": "stdout",
     "output_type": "stream",
     "text": [
      "    365/Unknown \u001b[1m6s\u001b[0m 8ms/step - binary_accuracy: 0.7571 - loss: 0.4866 - precision: 0.7345 - recall: 0.8404"
     ]
    },
    {
     "name": "stderr",
     "output_type": "stream",
     "text": [
      "/usr/lib/python3.11/contextlib.py:155: UserWarning: Your input ran out of data; interrupting training. Make sure that your dataset or generator can generate at least `steps_per_epoch * epochs` batches. You may need to use the `.repeat()` function when building your dataset.\n",
      "  self.gen.throw(typ, value, traceback)\n"
     ]
    },
    {
     "name": "stdout",
     "output_type": "stream",
     "text": [
      "\u001b[1m365/365\u001b[0m \u001b[32m━━━━━━━━━━━━━━━━━━━━\u001b[0m\u001b[37m\u001b[0m \u001b[1m10s\u001b[0m 19ms/step - binary_accuracy: 0.7573 - loss: 0.4864 - precision: 0.7347 - recall: 0.8404 - val_binary_accuracy: 0.8648 - val_loss: 0.3146 - val_precision: 0.8547 - val_recall: 0.8764\n",
      "Epoch 2/10\n",
      "\u001b[1m365/365\u001b[0m \u001b[32m━━━━━━━━━━━━━━━━━━━━\u001b[0m\u001b[37m\u001b[0m \u001b[1m6s\u001b[0m 16ms/step - binary_accuracy: 0.8675 - loss: 0.3088 - precision: 0.8618 - recall: 0.8761 - val_binary_accuracy: 0.8713 - val_loss: 0.2974 - val_precision: 0.8640 - val_recall: 0.8789\n",
      "Epoch 3/10\n",
      "\u001b[1m365/365\u001b[0m \u001b[32m━━━━━━━━━━━━━━━━━━━━\u001b[0m\u001b[37m\u001b[0m \u001b[1m6s\u001b[0m 15ms/step - binary_accuracy: 0.8742 - loss: 0.2951 - precision: 0.8693 - recall: 0.8814 - val_binary_accuracy: 0.8743 - val_loss: 0.2914 - val_precision: 0.8675 - val_recall: 0.8811\n",
      "Epoch 4/10\n",
      "\u001b[1m365/365\u001b[0m \u001b[32m━━━━━━━━━━━━━━━━━━━━\u001b[0m\u001b[37m\u001b[0m \u001b[1m6s\u001b[0m 15ms/step - binary_accuracy: 0.8770 - loss: 0.2891 - precision: 0.8722 - recall: 0.8841 - val_binary_accuracy: 0.8754 - val_loss: 0.2883 - val_precision: 0.8735 - val_recall: 0.8757\n",
      "Epoch 5/10\n",
      "\u001b[1m365/365\u001b[0m \u001b[32m━━━━━━━━━━━━━━━━━━━━\u001b[0m\u001b[37m\u001b[0m \u001b[1m6s\u001b[0m 15ms/step - binary_accuracy: 0.8787 - loss: 0.2855 - precision: 0.8739 - recall: 0.8857 - val_binary_accuracy: 0.8757 - val_loss: 0.2872 - val_precision: 0.8791 - val_recall: 0.8689\n",
      "Epoch 6/10\n",
      "\u001b[1m365/365\u001b[0m \u001b[32m━━━━━━━━━━━━━━━━━━━━\u001b[0m\u001b[37m\u001b[0m \u001b[1m5s\u001b[0m 15ms/step - binary_accuracy: 0.8799 - loss: 0.2834 - precision: 0.8756 - recall: 0.8863 - val_binary_accuracy: 0.8765 - val_loss: 0.2858 - val_precision: 0.8786 - val_recall: 0.8715\n",
      "Epoch 7/10\n",
      "\u001b[1m365/365\u001b[0m \u001b[32m━━━━━━━━━━━━━━━━━━━━\u001b[0m\u001b[37m\u001b[0m \u001b[1m5s\u001b[0m 14ms/step - binary_accuracy: 0.8804 - loss: 0.2818 - precision: 0.8761 - recall: 0.8867 - val_binary_accuracy: 0.8774 - val_loss: 0.2847 - val_precision: 0.8769 - val_recall: 0.8758\n",
      "Epoch 8/10\n",
      "\u001b[1m365/365\u001b[0m \u001b[32m━━━━━━━━━━━━━━━━━━━━\u001b[0m\u001b[37m\u001b[0m \u001b[1m5s\u001b[0m 14ms/step - binary_accuracy: 0.8810 - loss: 0.2807 - precision: 0.8770 - recall: 0.8869 - val_binary_accuracy: 0.8778 - val_loss: 0.2839 - val_precision: 0.8741 - val_recall: 0.8806\n",
      "Epoch 9/10\n",
      "\u001b[1m365/365\u001b[0m \u001b[32m━━━━━━━━━━━━━━━━━━━━\u001b[0m\u001b[37m\u001b[0m \u001b[1m5s\u001b[0m 14ms/step - binary_accuracy: 0.8812 - loss: 0.2800 - precision: 0.8771 - recall: 0.8873 - val_binary_accuracy: 0.8780 - val_loss: 0.2837 - val_precision: 0.8729 - val_recall: 0.8826\n",
      "Epoch 10/10\n",
      "\u001b[1m365/365\u001b[0m \u001b[32m━━━━━━━━━━━━━━━━━━━━\u001b[0m\u001b[37m\u001b[0m \u001b[1m5s\u001b[0m 13ms/step - binary_accuracy: 0.8813 - loss: 0.2797 - precision: 0.8773 - recall: 0.8873 - val_binary_accuracy: 0.8781 - val_loss: 0.2836 - val_precision: 0.8713 - val_recall: 0.8850\n"
     ]
    }
   ],
   "source": [
    "# trainig the model\n",
    "\n",
    "history = model.fit(dataset_train, validation_data=dataset_val, epochs=N_EPOCHS)\n"
   ]
  },
  {
   "cell_type": "code",
   "execution_count": 6,
   "metadata": {},
   "outputs": [
    {
     "name": "stdout",
     "output_type": "stream",
     "text": [
      "dict_keys(['binary_accuracy', 'loss', 'precision', 'recall', 'val_binary_accuracy', 'val_loss', 'val_precision', 'val_recall'])\n"
     ]
    },
    {
     "data": {
      "image/png": "[encoded data removed]",
      "text/plain": [
       "<Figure size 640x480 with 1 Axes>"
      ]
     },
     "metadata": {},
     "output_type": "display_data"
    }
   ],
   "source": [
    "# draw some plots\n",
    "# history of the training\n",
    "import matplotlib.pyplot as plt\n",
    "\n",
    "print(history.history.keys())\n",
    "\n",
    "plt.plot(history.history['binary_accuracy'], label='train')\n",
    "plt.plot(history.history['val_binary_accuracy'], label='val')\n",
    "plt.legend()\n",
    "\n",
    "plt.show()"
   ]
  },
  {
   "cell_type": "code",
   "execution_count": 7,
   "metadata": {},
   "outputs": [
    {
     "name": "stdout",
     "output_type": "stream",
     "text": [
      "\u001b[1m73/73\u001b[0m \u001b[32m━━━━━━━━━━━━━━━━━━━━\u001b[0m\u001b[37m\u001b[0m \u001b[1m4s\u001b[0m 14ms/step\n",
      "\u001b[1m37/37\u001b[0m \u001b[32m━━━━━━━━━━━━━━━━━━━━\u001b[0m\u001b[37m\u001b[0m \u001b[1m4s\u001b[0m 48ms/step\n",
      "\u001b[1m36/36\u001b[0m \u001b[32m━━━━━━━━━━━━━━━━━━━━\u001b[0m\u001b[37m\u001b[0m \u001b[1m4s\u001b[0m 51ms/step\n"
     ]
    },
    {
     "data": {
      "text/plain": [
       "<matplotlib.legend.Legend at 0x7f2015ae98d0>"
      ]
     },
     "execution_count": 7,
     "metadata": {},
     "output_type": "execute_result"
    },
    {
     "data": {
      "image/png": "[encoded data removed]",
      "text/plain": [
       "<Figure size 640x480 with 1 Axes>"
      ]
     },
     "metadata": {},
     "output_type": "display_data"
    }
   ],
   "source": [
    "import matplotlib.pyplot as plt\n",
    "\n",
    "def pick_data( data, label ):\n",
    "    return data\n",
    "\n",
    "def filter_sig( data, label ):\n",
    "    return label == 1\n",
    "\n",
    "def filter_bkg( data, label ):\n",
    "    return label == 0\n",
    "\n",
    "# unbatch the dataset\n",
    "dataset_val_unbatched = dataset_val.unbatch()\n",
    "\n",
    "# filter signal and background events\n",
    "dataset_val_sig = dataset_val_unbatched.filter( filter_sig ).batch(batch_size)\n",
    "dataset_val_bkg = dataset_val_unbatched.filter( filter_bkg ).batch(batch_size)\n",
    "\n",
    "# pick just data events from dataset_val\n",
    "dataset_val_data = dataset_val.map( pick_data )\n",
    "dataset_val_sig_data = dataset_val_sig.map( pick_data )\n",
    "dataset_val_bkg_data = dataset_val_bkg.map( pick_data )\n",
    "\n",
    "\n",
    "# for x in dataset_val_unbatched.take(1):\n",
    "#     print(x)\n",
    "\n",
    "# predict the output\n",
    "y = model.predict(dataset_val_data)\n",
    "y_sig = model.predict(dataset_val_sig_data)\n",
    "y_bkg = model.predict(dataset_val_bkg_data)\n",
    "\n",
    "\n",
    "# plot the output\n",
    "plt.hist(y, bins=100, histtype='step', label='output')\n",
    "plt.hist(y_sig, bins=100, histtype='step', label='true signal')\n",
    "plt.hist(y_bkg, bins=100, histtype='step', label='true back.')\n",
    "plt.legend()"
   ]
  }
 ],
 "metadata": {
  "kernelspec": {
   "display_name": "tf gpu",
   "language": "python",
   "name": "tf"
  },
  "language_info": {
   "codemirror_mode": {
    "name": "ipython",
    "version": 3
   },
   "file_extension": ".py",
   "mimetype": "text/x-python",
   "name": "python",
   "nbconvert_exporter": "python",
   "pygments_lexer": "ipython3",
   "version": "3.11.0rc1"
  }
 },
 "nbformat": 4,
 "nbformat_minor": 2
}
