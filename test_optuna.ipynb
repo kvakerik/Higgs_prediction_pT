{
 "cells": [
  {
   "cell_type": "code",
   "execution_count": 1,
   "metadata": {},
   "outputs": [
    {
     "name": "stderr",
     "output_type": "stream",
     "text": [
      "2025-03-08 19:14:13.894903: E external/local_xla/xla/stream_executor/cuda/cuda_fft.cc:485] Unable to register cuFFT factory: Attempting to register factory for plugin cuFFT when one has already been registered\n",
      "2025-03-08 19:14:13.916125: E external/local_xla/xla/stream_executor/cuda/cuda_dnn.cc:8454] Unable to register cuDNN factory: Attempting to register factory for plugin cuDNN when one has already been registered\n",
      "2025-03-08 19:14:13.923521: E external/local_xla/xla/stream_executor/cuda/cuda_blas.cc:1452] Unable to register cuBLAS factory: Attempting to register factory for plugin cuBLAS when one has already been registered\n",
      "2025-03-08 19:14:13.944508: I tensorflow/core/platform/cpu_feature_guard.cc:210] This TensorFlow binary is optimized to use available CPU instructions in performance-critical operations.\n",
      "To enable the following instructions: AVX2 FMA, in other operations, rebuild TensorFlow with the appropriate compiler flags.\n",
      "2025-03-08 19:14:19.314733: E external/local_xla/xla/stream_executor/cuda/cuda_driver.cc:266] failed call to cuInit: CUDA_ERROR_NO_DEVICE: no CUDA-capable device is detected\n"
     ]
    }
   ],
   "source": [
    "from ModelClass import RegressionModel\n",
    "from DatasetClass import Dataset, DatasetMass\n",
    "import matplotlib.pyplot as plt\n",
    "import numpy as np\n",
    "import itertools\n",
    "from src.helpers import make_filter_slice\n",
    "import tensorflow as tf\n",
    "import sys\n",
    "sys.path.append(\"/home/kvake/.local/lib/python3.11/site-packages\")\n",
    "import optuna\n",
    "sys.path.append(\"/home/kvake/.local/lib/python3.9/site-packages\")  # Adjust if needed\n",
    "import optuna_dashboard"
   ]
  },
  {
   "cell_type": "code",
   "execution_count": 2,
   "metadata": {},
   "outputs": [],
   "source": [
    "erik_data = \"/scratch/ucjf-atlas/htautau/SM_Htautau_R22/V02_skim_mva_01/*/*/*/*/*H125*.root\"\n",
    "patrik_data = \"/scratch/ucjf-atlas/htautau/SM_Htautau_R22/V02_skim_mva_01/*/*/*/*/*Ztt*.root\""
   ]
  },
  {
   "cell_type": "code",
   "execution_count": 8,
   "metadata": {},
   "outputs": [
    {
     "name": "stdout",
     "output_type": "stream",
     "text": [
      "603636\n"
     ]
    },
    {
     "name": "stderr",
     "output_type": "stream",
     "text": [
      "2025-03-08 19:12:41.699125: I tensorflow/core/framework/local_rendezvous.cc:404] Local rendezvous is aborting with status: OUT_OF_RANGE: End of sequence\n"
     ]
    }
   ],
   "source": [
    "dataset = Dataset(file_paths=erik_data, file_name = \"erik_data\")\n",
    "# dataset.build_dataset()\n",
    "# dataset.save_data()\n",
    "dataset.load_data()\n",
    "\n",
    "print(len(dataset.train_dataset))\n",
    "\n",
    "#This block of code iterates through the dataset and extracts the pt values of the labels and stores them in a list\n",
    "data = [labels.numpy()[0] for features, labels in dataset.train_dataset.take(100000)]\n",
    "\n",
    "# plt.hist(data, bins=100, range=(50, 130), histtype='step', label='pt distribution', density=False)\n",
    "# plt.legend(loc='upper right')\n",
    "# plt.title('pt distribution of the dataset')\n",
    "# plt.xlabel('pt')\n",
    "# plt.ylabel('Number of events')\n",
    "# plt.show()"
   ]
  },
  {
   "cell_type": "code",
   "execution_count": null,
   "metadata": {},
   "outputs": [
    {
     "name": "stdout",
     "output_type": "stream",
     "text": [
      "Train dataset size: 603636\n"
     ]
    },
    {
     "name": "stderr",
     "output_type": "stream",
     "text": [
      "[I 2025-03-08 19:20:45,321] A new study created in RDB with name: Higgs_analysis_pt\n",
      "Bottle v0.13.2 server starting up (using WSGIRefServer())...\n",
      "Listening on http://0.0.0.0:8080/\n",
      "Hit Ctrl-C to quit.\n",
      "\n"
     ]
    },
    {
     "name": "stdout",
     "output_type": "stream",
     "text": [
      "Batching datasets...\n"
     ]
    },
    {
     "name": "stderr",
     "output_type": "stream",
     "text": [
      "2025-03-08 19:21:01.233191: I tensorflow/core/framework/local_rendezvous.cc:404] Local rendezvous is aborting with status: OUT_OF_RANGE: End of sequence\n"
     ]
    },
    {
     "name": "stdout",
     "output_type": "stream",
     "text": [
      "Building model...\n",
      "Training model...\n",
      "Epoch 1/30\n",
      "\u001b[1m4716/4716\u001b[0m \u001b[32m━━━━━━━━━━━━━━━━━━━━\u001b[0m\u001b[37m\u001b[0m \u001b[1m16s\u001b[0m 3ms/step - loss: 5945.5923 - mean_squared_error: 5945.5923 - val_loss: 323.4619 - val_mean_squared_error: 323.4619\n",
      "Epoch 2/30\n",
      "\u001b[1m4716/4716\u001b[0m \u001b[32m━━━━━━━━━━━━━━━━━━━━\u001b[0m\u001b[37m\u001b[0m \u001b[1m20s\u001b[0m 4ms/step - loss: 313.0353 - mean_squared_error: 313.0353 - val_loss: 297.0313 - val_mean_squared_error: 297.0313\n",
      "Epoch 3/30\n",
      "\u001b[1m4716/4716\u001b[0m \u001b[32m━━━━━━━━━━━━━━━━━━━━\u001b[0m\u001b[37m\u001b[0m \u001b[1m25s\u001b[0m 5ms/step - loss: 291.1248 - mean_squared_error: 291.1248 - val_loss: 285.0720 - val_mean_squared_error: 285.0720\n",
      "Epoch 4/30\n",
      "\u001b[1m4716/4716\u001b[0m \u001b[32m━━━━━━━━━━━━━━━━━━━━\u001b[0m\u001b[37m\u001b[0m \u001b[1m18s\u001b[0m 4ms/step - loss: 281.0669 - mean_squared_error: 281.0669 - val_loss: 278.6642 - val_mean_squared_error: 278.6642\n",
      "Epoch 5/30\n",
      "\u001b[1m4716/4716\u001b[0m \u001b[32m━━━━━━━━━━━━━━━━━━━━\u001b[0m\u001b[37m\u001b[0m \u001b[1m18s\u001b[0m 4ms/step - loss: 275.1577 - mean_squared_error: 275.1577 - val_loss: 274.2500 - val_mean_squared_error: 274.2500\n",
      "Epoch 6/30\n",
      "\u001b[1m4716/4716\u001b[0m \u001b[32m━━━━━━━━━━━━━━━━━━━━\u001b[0m\u001b[37m\u001b[0m \u001b[1m15s\u001b[0m 3ms/step - loss: 270.9183 - mean_squared_error: 270.9184 - val_loss: 270.5456 - val_mean_squared_error: 270.5456\n",
      "Epoch 7/30\n",
      "\u001b[1m4716/4716\u001b[0m \u001b[32m━━━━━━━━━━━━━━━━━━━━\u001b[0m\u001b[37m\u001b[0m \u001b[1m15s\u001b[0m 3ms/step - loss: 267.3268 - mean_squared_error: 267.3268 - val_loss: 267.1672 - val_mean_squared_error: 267.1672\n",
      "Epoch 8/30\n",
      "\u001b[1m4716/4716\u001b[0m \u001b[32m━━━━━━━━━━━━━━━━━━━━\u001b[0m\u001b[37m\u001b[0m \u001b[1m15s\u001b[0m 3ms/step - loss: 264.3725 - mean_squared_error: 264.3726 - val_loss: 264.8088 - val_mean_squared_error: 264.8088\n",
      "Epoch 9/30\n",
      "\u001b[1m4716/4716\u001b[0m \u001b[32m━━━━━━━━━━━━━━━━━━━━\u001b[0m\u001b[37m\u001b[0m \u001b[1m16s\u001b[0m 3ms/step - loss: 261.7863 - mean_squared_error: 261.7863 - val_loss: 262.7124 - val_mean_squared_error: 262.7124\n",
      "Epoch 10/30\n",
      "\u001b[1m4716/4716\u001b[0m \u001b[32m━━━━━━━━━━━━━━━━━━━━\u001b[0m\u001b[37m\u001b[0m \u001b[1m14s\u001b[0m 3ms/step - loss: 259.4806 - mean_squared_error: 259.4807 - val_loss: 260.6641 - val_mean_squared_error: 260.6641\n",
      "Epoch 11/30\n",
      "\u001b[1m4716/4716\u001b[0m \u001b[32m━━━━━━━━━━━━━━━━━━━━\u001b[0m\u001b[37m\u001b[0m \u001b[1m14s\u001b[0m 3ms/step - loss: 257.4809 - mean_squared_error: 257.4810 - val_loss: 258.9358 - val_mean_squared_error: 258.9358\n",
      "Epoch 12/30\n",
      "\u001b[1m4716/4716\u001b[0m \u001b[32m━━━━━━━━━━━━━━━━━━━━\u001b[0m\u001b[37m\u001b[0m \u001b[1m14s\u001b[0m 3ms/step - loss: 255.7422 - mean_squared_error: 255.7422 - val_loss: 257.3496 - val_mean_squared_error: 257.3496\n",
      "Epoch 13/30\n",
      "\u001b[1m4716/4716\u001b[0m \u001b[32m━━━━━━━━━━━━━━━━━━━━\u001b[0m\u001b[37m\u001b[0m \u001b[1m15s\u001b[0m 3ms/step - loss: 254.2104 - mean_squared_error: 254.2105 - val_loss: 256.1060 - val_mean_squared_error: 256.1060\n",
      "Epoch 14/30\n",
      "\u001b[1m4716/4716\u001b[0m \u001b[32m━━━━━━━━━━━━━━━━━━━━\u001b[0m\u001b[37m\u001b[0m \u001b[1m17s\u001b[0m 4ms/step - loss: 252.8604 - mean_squared_error: 252.8604 - val_loss: 254.9948 - val_mean_squared_error: 254.9948\n",
      "Epoch 15/30\n",
      "\u001b[1m4716/4716\u001b[0m \u001b[32m━━━━━━━━━━━━━━━━━━━━\u001b[0m\u001b[37m\u001b[0m \u001b[1m18s\u001b[0m 4ms/step - loss: 251.6796 - mean_squared_error: 251.6797 - val_loss: 253.7534 - val_mean_squared_error: 253.7534\n",
      "Epoch 16/30\n",
      "\u001b[1m4716/4716\u001b[0m \u001b[32m━━━━━━━━━━━━━━━━━━━━\u001b[0m\u001b[37m\u001b[0m \u001b[1m20s\u001b[0m 4ms/step - loss: 250.6010 - mean_squared_error: 250.6011 - val_loss: 253.0724 - val_mean_squared_error: 253.0724\n",
      "Epoch 17/30\n",
      "\u001b[1m4716/4716\u001b[0m \u001b[32m━━━━━━━━━━━━━━━━━━━━\u001b[0m\u001b[37m\u001b[0m \u001b[1m15s\u001b[0m 3ms/step - loss: 249.6961 - mean_squared_error: 249.6961 - val_loss: 251.9906 - val_mean_squared_error: 251.9906\n",
      "Epoch 18/30\n",
      "\u001b[1m4716/4716\u001b[0m \u001b[32m━━━━━━━━━━━━━━━━━━━━\u001b[0m\u001b[37m\u001b[0m \u001b[1m16s\u001b[0m 3ms/step - loss: 248.8593 - mean_squared_error: 248.8593 - val_loss: 251.2553 - val_mean_squared_error: 251.2553\n",
      "Epoch 19/30\n",
      "\u001b[1m4716/4716\u001b[0m \u001b[32m━━━━━━━━━━━━━━━━━━━━\u001b[0m\u001b[37m\u001b[0m \u001b[1m15s\u001b[0m 3ms/step - loss: 248.1308 - mean_squared_error: 248.1308 - val_loss: 250.4369 - val_mean_squared_error: 250.4369\n",
      "Epoch 20/30\n",
      "\u001b[1m4716/4716\u001b[0m \u001b[32m━━━━━━━━━━━━━━━━━━━━\u001b[0m\u001b[37m\u001b[0m \u001b[1m16s\u001b[0m 3ms/step - loss: 247.4413 - mean_squared_error: 247.4413 - val_loss: 249.6132 - val_mean_squared_error: 249.6132\n",
      "Epoch 21/30\n",
      "\u001b[1m4716/4716\u001b[0m \u001b[32m━━━━━━━━━━━━━━━━━━━━\u001b[0m\u001b[37m\u001b[0m \u001b[1m15s\u001b[0m 3ms/step - loss: 246.8157 - mean_squared_error: 246.8157 - val_loss: 249.0877 - val_mean_squared_error: 249.0877\n",
      "Epoch 22/30\n",
      "\u001b[1m4716/4716\u001b[0m \u001b[32m━━━━━━━━━━━━━━━━━━━━\u001b[0m\u001b[37m\u001b[0m \u001b[1m16s\u001b[0m 3ms/step - loss: 246.2900 - mean_squared_error: 246.2900 - val_loss: 248.5471 - val_mean_squared_error: 248.5471\n",
      "Epoch 23/30\n",
      "\u001b[1m4716/4716\u001b[0m \u001b[32m━━━━━━━━━━━━━━━━━━━━\u001b[0m\u001b[37m\u001b[0m \u001b[1m18s\u001b[0m 4ms/step - loss: 245.8207 - mean_squared_error: 245.8207 - val_loss: 248.1902 - val_mean_squared_error: 248.1902\n",
      "Epoch 24/30\n",
      "\u001b[1m4716/4716\u001b[0m \u001b[32m━━━━━━━━━━━━━━━━━━━━\u001b[0m\u001b[37m\u001b[0m \u001b[1m31s\u001b[0m 7ms/step - loss: 245.4358 - mean_squared_error: 245.4359 - val_loss: 247.8202 - val_mean_squared_error: 247.8202\n",
      "Epoch 25/30\n",
      "\u001b[1m4716/4716\u001b[0m \u001b[32m━━━━━━━━━━━━━━━━━━━━\u001b[0m\u001b[37m\u001b[0m \u001b[1m15s\u001b[0m 3ms/step - loss: 245.1061 - mean_squared_error: 245.1061 - val_loss: 247.5431 - val_mean_squared_error: 247.5431\n",
      "Epoch 26/30\n",
      "\u001b[1m4716/4716\u001b[0m \u001b[32m━━━━━━━━━━━━━━━━━━━━\u001b[0m\u001b[37m\u001b[0m \u001b[1m15s\u001b[0m 3ms/step - loss: 244.8513 - mean_squared_error: 244.8513 - val_loss: 247.2770 - val_mean_squared_error: 247.2770\n",
      "Epoch 27/30\n",
      "\u001b[1m4716/4716\u001b[0m \u001b[32m━━━━━━━━━━━━━━━━━━━━\u001b[0m\u001b[37m\u001b[0m \u001b[1m16s\u001b[0m 3ms/step - loss: 244.6511 - mean_squared_error: 244.6511 - val_loss: 247.0798 - val_mean_squared_error: 247.0798\n",
      "Epoch 28/30\n",
      "\u001b[1m4716/4716\u001b[0m \u001b[32m━━━━━━━━━━━━━━━━━━━━\u001b[0m\u001b[37m\u001b[0m \u001b[1m15s\u001b[0m 3ms/step - loss: 244.5040 - mean_squared_error: 244.5041 - val_loss: 246.9816 - val_mean_squared_error: 246.9816\n",
      "Epoch 29/30\n",
      "\u001b[1m4716/4716\u001b[0m \u001b[32m━━━━━━━━━━━━━━━━━━━━\u001b[0m\u001b[37m\u001b[0m \u001b[1m16s\u001b[0m 3ms/step - loss: 244.4042 - mean_squared_error: 244.4042 - val_loss: 246.9321 - val_mean_squared_error: 246.9321\n",
      "Epoch 30/30\n",
      "\u001b[1m4716/4716\u001b[0m \u001b[32m━━━━━━━━━━━━━━━━━━━━\u001b[0m\u001b[37m\u001b[0m \u001b[1m16s\u001b[0m 3ms/step - loss: 244.3403 - mean_squared_error: 244.3403 - val_loss: 246.9202 - val_mean_squared_error: 246.9202\n"
     ]
    },
    {
     "name": "stderr",
     "output_type": "stream",
     "text": [
      "[I 2025-03-08 19:29:36,327] Trial 0 finished with value: 246.9202117919922 and parameters: {'n_layers': 2, 'hidden_layer_size': 90, 'initial_learning_rate': 0.0006401401145194258, 'n_epochs': 30, 'batch_size': 128}. Best is trial 0 with value: 246.9202117919922.\n"
     ]
    },
    {
     "name": "stdout",
     "output_type": "stream",
     "text": [
      "Batching datasets...\n",
      "Building model...\n",
      "Training model...\n",
      "Epoch 1/20\n"
     ]
    },
    {
     "name": "stderr",
     "output_type": "stream",
     "text": [
      "2025-03-08 19:29:51.948189: I tensorflow/core/framework/local_rendezvous.cc:404] Local rendezvous is aborting with status: OUT_OF_RANGE: End of sequence\n"
     ]
    },
    {
     "name": "stdout",
     "output_type": "stream",
     "text": [
      "\u001b[1m4716/4716\u001b[0m \u001b[32m━━━━━━━━━━━━━━━━━━━━\u001b[0m\u001b[37m\u001b[0m \u001b[1m18s\u001b[0m 4ms/step - loss: 2626.4243 - mean_squared_error: 2626.4243 - val_loss: 292.0958 - val_mean_squared_error: 292.0958\n",
      "Epoch 2/20\n",
      "\u001b[1m4716/4716\u001b[0m \u001b[32m━━━━━━━━━━━━━━━━━━━━\u001b[0m\u001b[37m\u001b[0m \u001b[1m17s\u001b[0m 4ms/step - loss: 281.4450 - mean_squared_error: 281.4450 - val_loss: 271.3016 - val_mean_squared_error: 271.3016\n",
      "Epoch 3/20\n",
      "\u001b[1m4716/4716\u001b[0m \u001b[32m━━━━━━━━━━━━━━━━━━━━\u001b[0m\u001b[37m\u001b[0m \u001b[1m17s\u001b[0m 4ms/step - loss: 266.3084 - mean_squared_error: 266.3084 - val_loss: 264.3672 - val_mean_squared_error: 264.3672\n",
      "Epoch 4/20\n",
      "\u001b[1m4716/4716\u001b[0m \u001b[32m━━━━━━━━━━━━━━━━━━━━\u001b[0m\u001b[37m\u001b[0m \u001b[1m18s\u001b[0m 4ms/step - loss: 259.1923 - mean_squared_error: 259.1923 - val_loss: 258.5273 - val_mean_squared_error: 258.5273\n",
      "Epoch 5/20\n",
      "\u001b[1m4716/4716\u001b[0m \u001b[32m━━━━━━━━━━━━━━━━━━━━\u001b[0m\u001b[37m\u001b[0m \u001b[1m17s\u001b[0m 4ms/step - loss: 254.0066 - mean_squared_error: 254.0067 - val_loss: 254.5850 - val_mean_squared_error: 254.5850\n",
      "Epoch 6/20\n",
      "\u001b[1m4716/4716\u001b[0m \u001b[32m━━━━━━━━━━━━━━━━━━━━\u001b[0m\u001b[37m\u001b[0m \u001b[1m19s\u001b[0m 4ms/step - loss: 249.7151 - mean_squared_error: 249.7151 - val_loss: 250.3389 - val_mean_squared_error: 250.3389\n",
      "Epoch 7/20\n",
      "\u001b[1m4716/4716\u001b[0m \u001b[32m━━━━━━━━━━━━━━━━━━━━\u001b[0m\u001b[37m\u001b[0m \u001b[1m17s\u001b[0m 4ms/step - loss: 244.8683 - mean_squared_error: 244.8683 - val_loss: 245.5959 - val_mean_squared_error: 245.5959\n",
      "Epoch 8/20\n",
      "\u001b[1m4716/4716\u001b[0m \u001b[32m━━━━━━━━━━━━━━━━━━━━\u001b[0m\u001b[37m\u001b[0m \u001b[1m17s\u001b[0m 4ms/step - loss: 240.0492 - mean_squared_error: 240.0492 - val_loss: 241.4911 - val_mean_squared_error: 241.4911\n",
      "Epoch 9/20\n",
      "\u001b[1m4716/4716\u001b[0m \u001b[32m━━━━━━━━━━━━━━━━━━━━\u001b[0m\u001b[37m\u001b[0m \u001b[1m17s\u001b[0m 4ms/step - loss: 235.4094 - mean_squared_error: 235.4094 - val_loss: 235.9451 - val_mean_squared_error: 235.9451\n",
      "Epoch 10/20\n",
      "\u001b[1m4716/4716\u001b[0m \u001b[32m━━━━━━━━━━━━━━━━━━━━\u001b[0m\u001b[37m\u001b[0m \u001b[1m17s\u001b[0m 4ms/step - loss: 230.5247 - mean_squared_error: 230.5247 - val_loss: 231.2624 - val_mean_squared_error: 231.2624\n",
      "Epoch 11/20\n",
      "\u001b[1m4716/4716\u001b[0m \u001b[32m━━━━━━━━━━━━━━━━━━━━\u001b[0m\u001b[37m\u001b[0m \u001b[1m17s\u001b[0m 4ms/step - loss: 226.3523 - mean_squared_error: 226.3524 - val_loss: 227.0138 - val_mean_squared_error: 227.0138\n",
      "Epoch 12/20\n",
      "\u001b[1m4716/4716\u001b[0m \u001b[32m━━━━━━━━━━━━━━━━━━━━\u001b[0m\u001b[37m\u001b[0m \u001b[1m17s\u001b[0m 4ms/step - loss: 222.9317 - mean_squared_error: 222.9318 - val_loss: 223.3618 - val_mean_squared_error: 223.3618\n",
      "Epoch 13/20\n",
      "\u001b[1m4716/4716\u001b[0m \u001b[32m━━━━━━━━━━━━━━━━━━━━\u001b[0m\u001b[37m\u001b[0m \u001b[1m17s\u001b[0m 4ms/step - loss: 220.0102 - mean_squared_error: 220.0102 - val_loss: 220.6323 - val_mean_squared_error: 220.6323\n",
      "Epoch 14/20\n",
      "\u001b[1m4716/4716\u001b[0m \u001b[32m━━━━━━━━━━━━━━━━━━━━\u001b[0m\u001b[37m\u001b[0m \u001b[1m19s\u001b[0m 3ms/step - loss: 217.5311 - mean_squared_error: 217.5312 - val_loss: 219.0497 - val_mean_squared_error: 219.0497\n",
      "Epoch 15/20\n",
      "\u001b[1m4716/4716\u001b[0m \u001b[32m━━━━━━━━━━━━━━━━━━━━\u001b[0m\u001b[37m\u001b[0m \u001b[1m16s\u001b[0m 3ms/step - loss: 215.3538 - mean_squared_error: 215.3538 - val_loss: 217.0870 - val_mean_squared_error: 217.0870\n",
      "Epoch 16/20\n",
      "\u001b[1m4716/4716\u001b[0m \u001b[32m━━━━━━━━━━━━━━━━━━━━\u001b[0m\u001b[37m\u001b[0m \u001b[1m16s\u001b[0m 3ms/step - loss: 213.5388 - mean_squared_error: 213.5388 - val_loss: 215.8575 - val_mean_squared_error: 215.8575\n",
      "Epoch 17/20\n",
      "\u001b[1m4716/4716\u001b[0m \u001b[32m━━━━━━━━━━━━━━━━━━━━\u001b[0m\u001b[37m\u001b[0m \u001b[1m17s\u001b[0m 4ms/step - loss: 212.1104 - mean_squared_error: 212.1104 - val_loss: 214.8307 - val_mean_squared_error: 214.8307\n",
      "Epoch 18/20\n",
      "\u001b[1m4716/4716\u001b[0m \u001b[32m━━━━━━━━━━━━━━━━━━━━\u001b[0m\u001b[37m\u001b[0m \u001b[1m18s\u001b[0m 4ms/step - loss: 211.0430 - mean_squared_error: 211.0431 - val_loss: 214.2628 - val_mean_squared_error: 214.2628\n",
      "Epoch 19/20\n",
      "\u001b[1m4716/4716\u001b[0m \u001b[32m━━━━━━━━━━━━━━━━━━━━\u001b[0m\u001b[37m\u001b[0m \u001b[1m17s\u001b[0m 4ms/step - loss: 210.3488 - mean_squared_error: 210.3488 - val_loss: 213.9283 - val_mean_squared_error: 213.9283\n",
      "Epoch 20/20\n",
      "\u001b[1m4716/4716\u001b[0m \u001b[32m━━━━━━━━━━━━━━━━━━━━\u001b[0m\u001b[37m\u001b[0m \u001b[1m17s\u001b[0m 4ms/step - loss: 209.9876 - mean_squared_error: 209.9876 - val_loss: 213.7905 - val_mean_squared_error: 213.7905\n"
     ]
    },
    {
     "name": "stderr",
     "output_type": "stream",
     "text": [
      "[I 2025-03-08 19:35:41,261] Trial 1 finished with value: 213.79054260253906 and parameters: {'n_layers': 3, 'hidden_layer_size': 368, 'initial_learning_rate': 0.0005018839310162061, 'n_epochs': 20, 'batch_size': 128}. Best is trial 1 with value: 213.79054260253906.\n"
     ]
    },
    {
     "name": "stdout",
     "output_type": "stream",
     "text": [
      "Batching datasets...\n",
      "Building model...\n",
      "Training model...\n",
      "Epoch 1/30\n",
      "\u001b[1m6288/6288\u001b[0m \u001b[32m━━━━━━━━━━━━━━━━━━━━\u001b[0m\u001b[37m\u001b[0m \u001b[1m18s\u001b[0m 3ms/step - loss: 734.9014 - mean_squared_error: 734.9016 - val_loss: 302.6853 - val_mean_squared_error: 302.6847\n",
      "Epoch 2/30\n",
      "\u001b[1m6288/6288\u001b[0m \u001b[32m━━━━━━━━━━━━━━━━━━━━\u001b[0m\u001b[37m\u001b[0m \u001b[1m16s\u001b[0m 3ms/step - loss: 285.1802 - mean_squared_error: 285.1805 - val_loss: 264.7529 - val_mean_squared_error: 264.7534\n",
      "Epoch 3/30\n",
      "\u001b[1m6288/6288\u001b[0m \u001b[32m━━━━━━━━━━━━━━━━━━━━\u001b[0m\u001b[37m\u001b[0m \u001b[1m17s\u001b[0m 3ms/step - loss: 253.7671 - mean_squared_error: 253.7673 - val_loss: 290.3427 - val_mean_squared_error: 290.3424\n",
      "Epoch 4/30\n",
      "\u001b[1m6288/6288\u001b[0m \u001b[32m━━━━━━━━━━━━━━━━━━━━\u001b[0m\u001b[37m\u001b[0m \u001b[1m16s\u001b[0m 3ms/step - loss: 241.0117 - mean_squared_error: 241.0118 - val_loss: 252.9987 - val_mean_squared_error: 252.9989\n",
      "Epoch 5/30\n",
      "\u001b[1m6288/6288\u001b[0m \u001b[32m━━━━━━━━━━━━━━━━━━━━\u001b[0m\u001b[37m\u001b[0m \u001b[1m16s\u001b[0m 3ms/step - loss: 233.4741 - mean_squared_error: 233.4738 - val_loss: 243.7626 - val_mean_squared_error: 243.7623\n",
      "Epoch 6/30\n",
      "\u001b[1m6288/6288\u001b[0m \u001b[32m━━━━━━━━━━━━━━━━━━━━\u001b[0m\u001b[37m\u001b[0m \u001b[1m16s\u001b[0m 3ms/step - loss: 229.0522 - mean_squared_error: 229.0525 - val_loss: 231.2627 - val_mean_squared_error: 231.2624\n",
      "Epoch 7/30\n",
      "\u001b[1m6288/6288\u001b[0m \u001b[32m━━━━━━━━━━━━━━━━━━━━\u001b[0m\u001b[37m\u001b[0m \u001b[1m16s\u001b[0m 3ms/step - loss: 225.0027 - mean_squared_error: 225.0028 - val_loss: 242.6475 - val_mean_squared_error: 242.6473\n",
      "Epoch 8/30\n",
      "\u001b[1m6288/6288\u001b[0m \u001b[32m━━━━━━━━━━━━━━━━━━━━\u001b[0m\u001b[37m\u001b[0m \u001b[1m16s\u001b[0m 3ms/step - loss: 221.7334 - mean_squared_error: 221.7333 - val_loss: 219.7065 - val_mean_squared_error: 219.7065\n",
      "Epoch 9/30\n",
      "\u001b[1m6288/6288\u001b[0m \u001b[32m━━━━━━━━━━━━━━━━━━━━\u001b[0m\u001b[37m\u001b[0m \u001b[1m17s\u001b[0m 3ms/step - loss: 218.5541 - mean_squared_error: 218.5542 - val_loss: 216.5726 - val_mean_squared_error: 216.5725\n",
      "Epoch 10/30\n",
      "\u001b[1m6288/6288\u001b[0m \u001b[32m━━━━━━━━━━━━━━━━━━━━\u001b[0m\u001b[37m\u001b[0m \u001b[1m16s\u001b[0m 3ms/step - loss: 215.5886 - mean_squared_error: 215.5885 - val_loss: 229.5815 - val_mean_squared_error: 229.5811\n",
      "Epoch 11/30\n",
      "\u001b[1m6288/6288\u001b[0m \u001b[32m━━━━━━━━━━━━━━━━━━━━\u001b[0m\u001b[37m\u001b[0m \u001b[1m17s\u001b[0m 3ms/step - loss: 213.2517 - mean_squared_error: 213.2519 - val_loss: 231.8837 - val_mean_squared_error: 231.8840\n",
      "Epoch 12/30\n",
      "\u001b[1m6288/6288\u001b[0m \u001b[32m━━━━━━━━━━━━━━━━━━━━\u001b[0m\u001b[37m\u001b[0m \u001b[1m17s\u001b[0m 3ms/step - loss: 210.7490 - mean_squared_error: 210.7489 - val_loss: 218.7666 - val_mean_squared_error: 218.7667\n",
      "Epoch 13/30\n",
      "\u001b[1m6288/6288\u001b[0m \u001b[32m━━━━━━━━━━━━━━━━━━━━\u001b[0m\u001b[37m\u001b[0m \u001b[1m16s\u001b[0m 3ms/step - loss: 208.7262 - mean_squared_error: 208.7262 - val_loss: 210.4886 - val_mean_squared_error: 210.4887\n",
      "Epoch 14/30\n",
      "\u001b[1m6288/6288\u001b[0m \u001b[32m━━━━━━━━━━━━━━━━━━━━\u001b[0m\u001b[37m\u001b[0m \u001b[1m16s\u001b[0m 3ms/step - loss: 206.4491 - mean_squared_error: 206.4491 - val_loss: 208.2413 - val_mean_squared_error: 208.2415\n",
      "Epoch 15/30\n",
      "\u001b[1m6288/6288\u001b[0m \u001b[32m━━━━━━━━━━━━━━━━━━━━\u001b[0m\u001b[37m\u001b[0m \u001b[1m17s\u001b[0m 3ms/step - loss: 204.5966 - mean_squared_error: 204.5966 - val_loss: 207.9565 - val_mean_squared_error: 207.9566\n",
      "Epoch 16/30\n",
      "\u001b[1m6288/6288\u001b[0m \u001b[32m━━━━━━━━━━━━━━━━━━━━\u001b[0m\u001b[37m\u001b[0m \u001b[1m16s\u001b[0m 3ms/step - loss: 202.1600 - mean_squared_error: 202.1602 - val_loss: 205.8982 - val_mean_squared_error: 205.8982\n",
      "Epoch 17/30\n",
      "\u001b[1m6288/6288\u001b[0m \u001b[32m━━━━━━━━━━━━━━━━━━━━\u001b[0m\u001b[37m\u001b[0m \u001b[1m17s\u001b[0m 3ms/step - loss: 200.0828 - mean_squared_error: 200.0832 - val_loss: 203.4360 - val_mean_squared_error: 203.4361\n",
      "Epoch 18/30\n",
      "\u001b[1m6288/6288\u001b[0m \u001b[32m━━━━━━━━━━━━━━━━━━━━\u001b[0m\u001b[37m\u001b[0m \u001b[1m17s\u001b[0m 3ms/step - loss: 198.2904 - mean_squared_error: 198.2905 - val_loss: 202.7691 - val_mean_squared_error: 202.7690\n",
      "Epoch 19/30\n",
      "\u001b[1m6288/6288\u001b[0m \u001b[32m━━━━━━━━━━━━━━━━━━━━\u001b[0m\u001b[37m\u001b[0m \u001b[1m16s\u001b[0m 3ms/step - loss: 196.3336 - mean_squared_error: 196.3336 - val_loss: 201.5667 - val_mean_squared_error: 201.5668\n",
      "Epoch 20/30\n",
      "\u001b[1m6288/6288\u001b[0m \u001b[32m━━━━━━━━━━━━━━━━━━━━\u001b[0m\u001b[37m\u001b[0m \u001b[1m16s\u001b[0m 3ms/step - loss: 194.1868 - mean_squared_error: 194.1868 - val_loss: 202.5114 - val_mean_squared_error: 202.5114\n",
      "Epoch 21/30\n",
      "\u001b[1m6288/6288\u001b[0m \u001b[32m━━━━━━━━━━━━━━━━━━━━\u001b[0m\u001b[37m\u001b[0m \u001b[1m16s\u001b[0m 3ms/step - loss: 192.3045 - mean_squared_error: 192.3045 - val_loss: 201.9886 - val_mean_squared_error: 201.9887\n",
      "Epoch 22/30\n",
      "\u001b[1m6288/6288\u001b[0m \u001b[32m━━━━━━━━━━━━━━━━━━━━\u001b[0m\u001b[37m\u001b[0m \u001b[1m17s\u001b[0m 3ms/step - loss: 190.5702 - mean_squared_error: 190.5701 - val_loss: 199.4115 - val_mean_squared_error: 199.4110\n",
      "Epoch 23/30\n",
      "\u001b[1m6288/6288\u001b[0m \u001b[32m━━━━━━━━━━━━━━━━━━━━\u001b[0m\u001b[37m\u001b[0m \u001b[1m25s\u001b[0m 4ms/step - loss: 188.9984 - mean_squared_error: 188.9984 - val_loss: 195.8316 - val_mean_squared_error: 195.8313\n",
      "Epoch 24/30\n",
      "\u001b[1m6288/6288\u001b[0m \u001b[32m━━━━━━━━━━━━━━━━━━━━\u001b[0m\u001b[37m\u001b[0m \u001b[1m22s\u001b[0m 3ms/step - loss: 187.5682 - mean_squared_error: 187.5682 - val_loss: 193.8149 - val_mean_squared_error: 193.8146\n",
      "Epoch 25/30\n",
      "\u001b[1m6288/6288\u001b[0m \u001b[32m━━━━━━━━━━━━━━━━━━━━\u001b[0m\u001b[37m\u001b[0m \u001b[1m17s\u001b[0m 3ms/step - loss: 186.4347 - mean_squared_error: 186.4346 - val_loss: 193.0080 - val_mean_squared_error: 193.0081\n",
      "Epoch 26/30\n",
      "\u001b[1m6288/6288\u001b[0m \u001b[32m━━━━━━━━━━━━━━━━━━━━\u001b[0m\u001b[37m\u001b[0m \u001b[1m23s\u001b[0m 4ms/step - loss: 185.3024 - mean_squared_error: 185.3025 - val_loss: 191.9498 - val_mean_squared_error: 191.9497\n",
      "Epoch 27/30\n",
      "\u001b[1m6288/6288\u001b[0m \u001b[32m━━━━━━━━━━━━━━━━━━━━\u001b[0m\u001b[37m\u001b[0m \u001b[1m16s\u001b[0m 3ms/step - loss: 184.3413 - mean_squared_error: 184.3413 - val_loss: 191.4878 - val_mean_squared_error: 191.4880\n",
      "Epoch 28/30\n",
      "\u001b[1m6288/6288\u001b[0m \u001b[32m━━━━━━━━━━━━━━━━━━━━\u001b[0m\u001b[37m\u001b[0m \u001b[1m16s\u001b[0m 3ms/step - loss: 183.6090 - mean_squared_error: 183.6089 - val_loss: 191.0138 - val_mean_squared_error: 191.0141\n",
      "Epoch 29/30\n",
      "\u001b[1m6288/6288\u001b[0m \u001b[32m━━━━━━━━━━━━━━━━━━━━\u001b[0m\u001b[37m\u001b[0m \u001b[1m19s\u001b[0m 3ms/step - loss: 183.0192 - mean_squared_error: 183.0190 - val_loss: 190.7629 - val_mean_squared_error: 190.7629\n",
      "Epoch 30/30\n",
      "\u001b[1m6288/6288\u001b[0m \u001b[32m━━━━━━━━━━━━━━━━━━━━\u001b[0m\u001b[37m\u001b[0m \u001b[1m16s\u001b[0m 3ms/step - loss: 182.6362 - mean_squared_error: 182.6362 - val_loss: 190.7125 - val_mean_squared_error: 190.7128\n"
     ]
    },
    {
     "name": "stderr",
     "output_type": "stream",
     "text": [
      "[I 2025-03-08 19:44:40,492] Trial 2 finished with value: 190.71246337890625 and parameters: {'n_layers': 4, 'hidden_layer_size': 238, 'initial_learning_rate': 0.0069670595787649885, 'n_epochs': 30, 'batch_size': 96}. Best is trial 2 with value: 190.71246337890625.\n"
     ]
    },
    {
     "name": "stdout",
     "output_type": "stream",
     "text": [
      "Batching datasets...\n",
      "Building model...\n",
      "Training model...\n",
      "Epoch 1/20\n"
     ]
    },
    {
     "name": "stderr",
     "output_type": "stream",
     "text": [
      "2025-03-08 19:44:56.164060: I tensorflow/core/framework/local_rendezvous.cc:404] Local rendezvous is aborting with status: OUT_OF_RANGE: End of sequence\n"
     ]
    },
    {
     "name": "stdout",
     "output_type": "stream",
     "text": [
      "\u001b[1m9432/9432\u001b[0m \u001b[32m━━━━━━━━━━━━━━━━━━━━\u001b[0m\u001b[37m\u001b[0m \u001b[1m24s\u001b[0m 2ms/step - loss: 560.1694 - mean_squared_error: 560.1694 - val_loss: 329.7106 - val_mean_squared_error: 329.7106\n",
      "Epoch 2/20\n",
      "\u001b[1m9432/9432\u001b[0m \u001b[32m━━━━━━━━━━━━━━━━━━━━\u001b[0m\u001b[37m\u001b[0m \u001b[1m22s\u001b[0m 2ms/step - loss: 282.9584 - mean_squared_error: 282.9584 - val_loss: 259.6648 - val_mean_squared_error: 259.6648\n",
      "Epoch 3/20\n",
      "\u001b[1m9432/9432\u001b[0m \u001b[32m━━━━━━━━━━━━━━━━━━━━\u001b[0m\u001b[37m\u001b[0m \u001b[1m23s\u001b[0m 2ms/step - loss: 255.7053 - mean_squared_error: 255.7053 - val_loss: 234.4085 - val_mean_squared_error: 234.4085\n",
      "Epoch 4/20\n",
      "\u001b[1m9432/9432\u001b[0m \u001b[32m━━━━━━━━━━━━━━━━━━━━\u001b[0m\u001b[37m\u001b[0m \u001b[1m21s\u001b[0m 2ms/step - loss: 244.2719 - mean_squared_error: 244.2719 - val_loss: 230.5363 - val_mean_squared_error: 230.5363\n",
      "Epoch 5/20\n",
      "\u001b[1m9432/9432\u001b[0m \u001b[32m━━━━━━━━━━━━━━━━━━━━\u001b[0m\u001b[37m\u001b[0m \u001b[1m22s\u001b[0m 2ms/step - loss: 234.9528 - mean_squared_error: 234.9528 - val_loss: 229.6241 - val_mean_squared_error: 229.6241\n",
      "Epoch 6/20\n",
      "\u001b[1m9432/9432\u001b[0m \u001b[32m━━━━━━━━━━━━━━━━━━━━\u001b[0m\u001b[37m\u001b[0m \u001b[1m22s\u001b[0m 2ms/step - loss: 228.9512 - mean_squared_error: 228.9512 - val_loss: 229.4349 - val_mean_squared_error: 229.4349\n",
      "Epoch 7/20\n",
      "\u001b[1m9432/9432\u001b[0m \u001b[32m━━━━━━━━━━━━━━━━━━━━\u001b[0m\u001b[37m\u001b[0m \u001b[1m22s\u001b[0m 2ms/step - loss: 223.4289 - mean_squared_error: 223.4289 - val_loss: 228.8399 - val_mean_squared_error: 228.8399\n",
      "Epoch 8/20\n",
      "\u001b[1m9432/9432\u001b[0m \u001b[32m━━━━━━━━━━━━━━━━━━━━\u001b[0m\u001b[37m\u001b[0m \u001b[1m31s\u001b[0m 3ms/step - loss: 219.9574 - mean_squared_error: 219.9574 - val_loss: 222.6299 - val_mean_squared_error: 222.6299\n",
      "Epoch 9/20\n",
      "\u001b[1m9432/9432\u001b[0m \u001b[32m━━━━━━━━━━━━━━━━━━━━\u001b[0m\u001b[37m\u001b[0m \u001b[1m37s\u001b[0m 4ms/step - loss: 215.5133 - mean_squared_error: 215.5133 - val_loss: 218.9935 - val_mean_squared_error: 218.9935\n",
      "Epoch 10/20\n",
      "\u001b[1m9432/9432\u001b[0m \u001b[32m━━━━━━━━━━━━━━━━━━━━\u001b[0m\u001b[37m\u001b[0m \u001b[1m41s\u001b[0m 4ms/step - loss: 212.0867 - mean_squared_error: 212.0867 - val_loss: 213.0786 - val_mean_squared_error: 213.0786\n",
      "Epoch 11/20\n",
      "\u001b[1m9432/9432\u001b[0m \u001b[32m━━━━━━━━━━━━━━━━━━━━\u001b[0m\u001b[37m\u001b[0m \u001b[1m24s\u001b[0m 2ms/step - loss: 208.2813 - mean_squared_error: 208.2813 - val_loss: 211.7629 - val_mean_squared_error: 211.7629\n",
      "Epoch 12/20\n",
      "\u001b[1m9432/9432\u001b[0m \u001b[32m━━━━━━━━━━━━━━━━━━━━\u001b[0m\u001b[37m\u001b[0m \u001b[1m36s\u001b[0m 4ms/step - loss: 204.6125 - mean_squared_error: 204.6125 - val_loss: 204.5509 - val_mean_squared_error: 204.5509\n",
      "Epoch 13/20\n",
      "\u001b[1m9432/9432\u001b[0m \u001b[32m━━━━━━━━━━━━━━━━━━━━\u001b[0m\u001b[37m\u001b[0m \u001b[1m22s\u001b[0m 2ms/step - loss: 200.9772 - mean_squared_error: 200.9772 - val_loss: 200.7924 - val_mean_squared_error: 200.7924\n",
      "Epoch 14/20\n",
      "\u001b[1m9432/9432\u001b[0m \u001b[32m━━━━━━━━━━━━━━━━━━━━\u001b[0m\u001b[37m\u001b[0m \u001b[1m26s\u001b[0m 3ms/step - loss: 197.3530 - mean_squared_error: 197.3531 - val_loss: 198.7341 - val_mean_squared_error: 198.7341\n",
      "Epoch 15/20\n",
      "\u001b[1m9432/9432\u001b[0m \u001b[32m━━━━━━━━━━━━━━━━━━━━\u001b[0m\u001b[37m\u001b[0m \u001b[1m24s\u001b[0m 2ms/step - loss: 194.1701 - mean_squared_error: 194.1702 - val_loss: 197.7189 - val_mean_squared_error: 197.7189\n",
      "Epoch 16/20\n",
      "\u001b[1m9432/9432\u001b[0m \u001b[32m━━━━━━━━━━━━━━━━━━━━\u001b[0m\u001b[37m\u001b[0m \u001b[1m21s\u001b[0m 2ms/step - loss: 191.1696 - mean_squared_error: 191.1696 - val_loss: 196.5356 - val_mean_squared_error: 196.5356\n",
      "Epoch 17/20\n",
      "\u001b[1m9432/9432\u001b[0m \u001b[32m━━━━━━━━━━━━━━━━━━━━\u001b[0m\u001b[37m\u001b[0m \u001b[1m22s\u001b[0m 2ms/step - loss: 188.8633 - mean_squared_error: 188.8633 - val_loss: 194.6057 - val_mean_squared_error: 194.6057\n",
      "Epoch 18/20\n",
      "\u001b[1m9432/9432\u001b[0m \u001b[32m━━━━━━━━━━━━━━━━━━━━\u001b[0m\u001b[37m\u001b[0m \u001b[1m22s\u001b[0m 2ms/step - loss: 186.8262 - mean_squared_error: 186.8262 - val_loss: 193.5589 - val_mean_squared_error: 193.5589\n",
      "Epoch 19/20\n",
      "\u001b[1m9432/9432\u001b[0m \u001b[32m━━━━━━━━━━━━━━━━━━━━\u001b[0m\u001b[37m\u001b[0m \u001b[1m22s\u001b[0m 2ms/step - loss: 185.3818 - mean_squared_error: 185.3818 - val_loss: 192.8903 - val_mean_squared_error: 192.8903\n",
      "Epoch 20/20\n",
      "\u001b[1m9432/9432\u001b[0m \u001b[32m━━━━━━━━━━━━━━━━━━━━\u001b[0m\u001b[37m\u001b[0m \u001b[1m22s\u001b[0m 2ms/step - loss: 184.4814 - mean_squared_error: 184.4814 - val_loss: 192.6990 - val_mean_squared_error: 192.6990\n"
     ]
    },
    {
     "name": "stderr",
     "output_type": "stream",
     "text": [
      "[I 2025-03-08 19:53:25,232] Trial 3 finished with value: 192.69895935058594 and parameters: {'n_layers': 3, 'hidden_layer_size': 466, 'initial_learning_rate': 0.009879962941771448, 'n_epochs': 20, 'batch_size': 64}. Best is trial 2 with value: 190.71246337890625.\n"
     ]
    },
    {
     "name": "stdout",
     "output_type": "stream",
     "text": [
      "Batching datasets...\n",
      "Building model...\n",
      "Training model...\n",
      "Epoch 1/5\n",
      "\u001b[1m4716/4716\u001b[0m \u001b[32m━━━━━━━━━━━━━━━━━━━━\u001b[0m\u001b[37m\u001b[0m \u001b[1m15s\u001b[0m 3ms/step - loss: 1459.8588 - mean_squared_error: 1459.8589 - val_loss: 287.3448 - val_mean_squared_error: 287.3448\n",
      "Epoch 2/5\n",
      "\u001b[1m4716/4716\u001b[0m \u001b[32m━━━━━━━━━━━━━━━━━━━━\u001b[0m\u001b[37m\u001b[0m \u001b[1m15s\u001b[0m 3ms/step - loss: 281.2403 - mean_squared_error: 281.2404 - val_loss: 297.3154 - val_mean_squared_error: 297.3154\n",
      "Epoch 3/5\n",
      "\u001b[1m4716/4716\u001b[0m \u001b[32m━━━━━━━━━━━━━━━━━━━━\u001b[0m\u001b[37m\u001b[0m \u001b[1m15s\u001b[0m 3ms/step - loss: 267.6374 - mean_squared_error: 267.6374 - val_loss: 264.4173 - val_mean_squared_error: 264.4173\n",
      "Epoch 4/5\n",
      "\u001b[1m4716/4716\u001b[0m \u001b[32m━━━━━━━━━━━━━━━━━━━━\u001b[0m\u001b[37m\u001b[0m \u001b[1m16s\u001b[0m 3ms/step - loss: 254.7247 - mean_squared_error: 254.7247 - val_loss: 248.1181 - val_mean_squared_error: 248.1181\n",
      "Epoch 5/5\n",
      "\u001b[1m4716/4716\u001b[0m \u001b[32m━━━━━━━━━━━━━━━━━━━━\u001b[0m\u001b[37m\u001b[0m \u001b[1m16s\u001b[0m 3ms/step - loss: 246.0512 - mean_squared_error: 246.0513 - val_loss: 243.7361 - val_mean_squared_error: 243.7361\n"
     ]
    },
    {
     "name": "stderr",
     "output_type": "stream",
     "text": [
      "[I 2025-03-08 19:55:01,784] Trial 4 finished with value: 243.736083984375 and parameters: {'n_layers': 3, 'hidden_layer_size': 223, 'initial_learning_rate': 0.0023230172168000702, 'n_epochs': 5, 'batch_size': 128}. Best is trial 2 with value: 190.71246337890625.\n"
     ]
    },
    {
     "name": "stdout",
     "output_type": "stream",
     "text": [
      "Batching datasets...\n",
      "Building model...\n",
      "Training model...\n",
      "Epoch 1/20\n",
      "\u001b[1m4716/4716\u001b[0m \u001b[32m━━━━━━━━━━━━━━━━━━━━\u001b[0m\u001b[37m\u001b[0m \u001b[1m23s\u001b[0m 5ms/step - loss: 1265.4878 - mean_squared_error: 1265.4878 - val_loss: 336.2610 - val_mean_squared_error: 336.2610\n",
      "Epoch 2/20\n",
      "\u001b[1m4716/4716\u001b[0m \u001b[32m━━━━━━━━━━━━━━━━━━━━\u001b[0m\u001b[37m\u001b[0m \u001b[1m24s\u001b[0m 5ms/step - loss: 279.8447 - mean_squared_error: 279.8447 - val_loss: 276.7773 - val_mean_squared_error: 276.7773\n",
      "Epoch 3/20\n",
      "\u001b[1m4716/4716\u001b[0m \u001b[32m━━━━━━━━━━━━━━━━━━━━\u001b[0m\u001b[37m\u001b[0m \u001b[1m16s\u001b[0m 3ms/step - loss: 261.3553 - mean_squared_error: 261.3554 - val_loss: 281.9807 - val_mean_squared_error: 281.9807\n",
      "Epoch 4/20\n",
      "\u001b[1m4716/4716\u001b[0m \u001b[32m━━━━━━━━━━━━━━━━━━━━\u001b[0m\u001b[37m\u001b[0m \u001b[1m19s\u001b[0m 4ms/step - loss: 246.5184 - mean_squared_error: 246.5184 - val_loss: 246.9523 - val_mean_squared_error: 246.9523\n",
      "Epoch 5/20\n",
      "\u001b[1m4716/4716\u001b[0m \u001b[32m━━━━━━━━━━━━━━━━━━━━\u001b[0m\u001b[37m\u001b[0m \u001b[1m16s\u001b[0m 3ms/step - loss: 231.3116 - mean_squared_error: 231.3116 - val_loss: 226.4037 - val_mean_squared_error: 226.4037\n",
      "Epoch 6/20\n",
      "\u001b[1m4716/4716\u001b[0m \u001b[32m━━━━━━━━━━━━━━━━━━━━\u001b[0m\u001b[37m\u001b[0m \u001b[1m22s\u001b[0m 5ms/step - loss: 223.8216 - mean_squared_error: 223.8216 - val_loss: 223.7146 - val_mean_squared_error: 223.7146\n",
      "Epoch 7/20\n",
      "\u001b[1m4716/4716\u001b[0m \u001b[32m━━━━━━━━━━━━━━━━━━━━\u001b[0m\u001b[37m\u001b[0m \u001b[1m16s\u001b[0m 3ms/step - loss: 217.5790 - mean_squared_error: 217.5790 - val_loss: 222.9509 - val_mean_squared_error: 222.9509\n",
      "Epoch 8/20\n",
      "\u001b[1m4716/4716\u001b[0m \u001b[32m━━━━━━━━━━━━━━━━━━━━\u001b[0m\u001b[37m\u001b[0m \u001b[1m16s\u001b[0m 3ms/step - loss: 212.6742 - mean_squared_error: 212.6742 - val_loss: 230.5187 - val_mean_squared_error: 230.5187\n",
      "Epoch 9/20\n",
      "\u001b[1m4716/4716\u001b[0m \u001b[32m━━━━━━━━━━━━━━━━━━━━\u001b[0m\u001b[37m\u001b[0m \u001b[1m16s\u001b[0m 3ms/step - loss: 208.6871 - mean_squared_error: 208.6871 - val_loss: 220.1682 - val_mean_squared_error: 220.1682\n",
      "Epoch 10/20\n",
      "\u001b[1m4716/4716\u001b[0m \u001b[32m━━━━━━━━━━━━━━━━━━━━\u001b[0m\u001b[37m\u001b[0m \u001b[1m16s\u001b[0m 3ms/step - loss: 205.0584 - mean_squared_error: 205.0584 - val_loss: 208.0064 - val_mean_squared_error: 208.0064\n",
      "Epoch 11/20\n",
      "\u001b[1m4716/4716\u001b[0m \u001b[32m━━━━━━━━━━━━━━━━━━━━\u001b[0m\u001b[37m\u001b[0m \u001b[1m18s\u001b[0m 4ms/step - loss: 201.3733 - mean_squared_error: 201.3733 - val_loss: 207.6730 - val_mean_squared_error: 207.6730\n",
      "Epoch 12/20\n",
      "\u001b[1m4716/4716\u001b[0m \u001b[32m━━━━━━━━━━━━━━━━━━━━\u001b[0m\u001b[37m\u001b[0m \u001b[1m24s\u001b[0m 5ms/step - loss: 198.1117 - mean_squared_error: 198.1117 - val_loss: 206.1072 - val_mean_squared_error: 206.1072\n",
      "Epoch 13/20\n",
      "\u001b[1m4716/4716\u001b[0m \u001b[32m━━━━━━━━━━━━━━━━━━━━\u001b[0m\u001b[37m\u001b[0m \u001b[1m21s\u001b[0m 4ms/step - loss: 194.8704 - mean_squared_error: 194.8704 - val_loss: 202.5204 - val_mean_squared_error: 202.5204\n",
      "Epoch 14/20\n",
      "\u001b[1m4716/4716\u001b[0m \u001b[32m━━━━━━━━━━━━━━━━━━━━\u001b[0m\u001b[37m\u001b[0m \u001b[1m20s\u001b[0m 4ms/step - loss: 192.0135 - mean_squared_error: 192.0135 - val_loss: 200.2091 - val_mean_squared_error: 200.2091\n",
      "Epoch 15/20\n",
      "\u001b[1m4716/4716\u001b[0m \u001b[32m━━━━━━━━━━━━━━━━━━━━\u001b[0m\u001b[37m\u001b[0m \u001b[1m16s\u001b[0m 3ms/step - loss: 189.4341 - mean_squared_error: 189.4341 - val_loss: 195.9367 - val_mean_squared_error: 195.9367\n",
      "Epoch 16/20\n",
      "\u001b[1m4716/4716\u001b[0m \u001b[32m━━━━━━━━━━━━━━━━━━━━\u001b[0m\u001b[37m\u001b[0m \u001b[1m17s\u001b[0m 4ms/step - loss: 187.1537 - mean_squared_error: 187.1537 - val_loss: 193.9234 - val_mean_squared_error: 193.9234\n",
      "Epoch 17/20\n",
      "\u001b[1m4716/4716\u001b[0m \u001b[32m━━━━━━━━━━━━━━━━━━━━\u001b[0m\u001b[37m\u001b[0m \u001b[1m16s\u001b[0m 3ms/step - loss: 185.2061 - mean_squared_error: 185.2061 - val_loss: 192.4751 - val_mean_squared_error: 192.4751\n",
      "Epoch 18/20\n",
      "\u001b[1m4716/4716\u001b[0m \u001b[32m━━━━━━━━━━━━━━━━━━━━\u001b[0m\u001b[37m\u001b[0m \u001b[1m17s\u001b[0m 4ms/step - loss: 183.6161 - mean_squared_error: 183.6161 - val_loss: 191.2323 - val_mean_squared_error: 191.2323\n",
      "Epoch 19/20\n",
      "\u001b[1m4716/4716\u001b[0m \u001b[32m━━━━━━━━━━━━━━━━━━━━\u001b[0m\u001b[37m\u001b[0m \u001b[1m16s\u001b[0m 3ms/step - loss: 182.4093 - mean_squared_error: 182.4094 - val_loss: 190.3779 - val_mean_squared_error: 190.3779\n",
      "Epoch 20/20\n",
      "\u001b[1m4716/4716\u001b[0m \u001b[32m━━━━━━━━━━━━━━━━━━━━\u001b[0m\u001b[37m\u001b[0m \u001b[1m17s\u001b[0m 4ms/step - loss: 181.6193 - mean_squared_error: 181.6193 - val_loss: 190.1328 - val_mean_squared_error: 190.1328\n"
     ]
    },
    {
     "name": "stderr",
     "output_type": "stream",
     "text": [
      "[I 2025-03-08 20:01:31,527] Trial 5 finished with value: 190.13284301757812 and parameters: {'n_layers': 4, 'hidden_layer_size': 355, 'initial_learning_rate': 0.0018702419332025772, 'n_epochs': 20, 'batch_size': 128}. Best is trial 5 with value: 190.13284301757812.\n"
     ]
    },
    {
     "name": "stdout",
     "output_type": "stream",
     "text": [
      "Batching datasets...\n",
      "Building model...\n",
      "Training model...\n",
      "Epoch 1/15\n",
      "\u001b[1m18864/18864\u001b[0m \u001b[32m━━━━━━━━━━━━━━━━━━━━\u001b[0m\u001b[37m\u001b[0m \u001b[1m22s\u001b[0m 1ms/step - loss: 1278.8915 - mean_squared_error: 1278.8915 - val_loss: 276.3162 - val_mean_squared_error: 276.3162\n",
      "Epoch 2/15\n",
      "\u001b[1m18864/18864\u001b[0m \u001b[32m━━━━━━━━━━━━━━━━━━━━\u001b[0m\u001b[37m\u001b[0m \u001b[1m21s\u001b[0m 1ms/step - loss: 277.0314 - mean_squared_error: 277.0315 - val_loss: 265.1944 - val_mean_squared_error: 265.1944\n",
      "Epoch 3/15\n",
      "\u001b[1m18864/18864\u001b[0m \u001b[32m━━━━━━━━━━━━━━━━━━━━\u001b[0m\u001b[37m\u001b[0m \u001b[1m21s\u001b[0m 1ms/step - loss: 265.2795 - mean_squared_error: 265.2795 - val_loss: 254.9314 - val_mean_squared_error: 254.9314\n",
      "Epoch 4/15\n",
      "\u001b[1m18864/18864\u001b[0m \u001b[32m━━━━━━━━━━━━━━━━━━━━\u001b[0m\u001b[37m\u001b[0m \u001b[1m23s\u001b[0m 1ms/step - loss: 254.5842 - mean_squared_error: 254.5842 - val_loss: 253.5370 - val_mean_squared_error: 253.5370\n",
      "Epoch 5/15\n",
      "\u001b[1m18864/18864\u001b[0m \u001b[32m━━━━━━━━━━━━━━━━━━━━\u001b[0m\u001b[37m\u001b[0m \u001b[1m19s\u001b[0m 1ms/step - loss: 248.3187 - mean_squared_error: 248.3187 - val_loss: 248.3670 - val_mean_squared_error: 248.3670\n",
      "Epoch 6/15\n",
      "\u001b[1m18864/18864\u001b[0m \u001b[32m━━━━━━━━━━━━━━━━━━━━\u001b[0m\u001b[37m\u001b[0m \u001b[1m18s\u001b[0m 950us/step - loss: 243.6033 - mean_squared_error: 243.6033 - val_loss: 245.4082 - val_mean_squared_error: 245.4082\n",
      "Epoch 7/15\n",
      "\u001b[1m18864/18864\u001b[0m \u001b[32m━━━━━━━━━━━━━━━━━━━━\u001b[0m\u001b[37m\u001b[0m \u001b[1m19s\u001b[0m 985us/step - loss: 239.7677 - mean_squared_error: 239.7677 - val_loss: 240.7959 - val_mean_squared_error: 240.7959\n",
      "Epoch 8/15\n",
      "\u001b[1m18864/18864\u001b[0m \u001b[32m━━━━━━━━━━━━━━━━━━━━\u001b[0m\u001b[37m\u001b[0m \u001b[1m21s\u001b[0m 1ms/step - loss: 236.7263 - mean_squared_error: 236.7263 - val_loss: 237.2343 - val_mean_squared_error: 237.2343\n",
      "Epoch 9/15\n",
      "\u001b[1m18864/18864\u001b[0m \u001b[32m━━━━━━━━━━━━━━━━━━━━\u001b[0m\u001b[37m\u001b[0m \u001b[1m23s\u001b[0m 1ms/step - loss: 233.9878 - mean_squared_error: 233.9878 - val_loss: 233.6665 - val_mean_squared_error: 233.6665\n",
      "Epoch 10/15\n",
      "\u001b[1m18864/18864\u001b[0m \u001b[32m━━━━━━━━━━━━━━━━━━━━\u001b[0m\u001b[37m\u001b[0m \u001b[1m21s\u001b[0m 1ms/step - loss: 231.5654 - mean_squared_error: 231.5654 - val_loss: 231.8896 - val_mean_squared_error: 231.8896\n",
      "Epoch 11/15\n",
      "\u001b[1m18864/18864\u001b[0m \u001b[32m━━━━━━━━━━━━━━━━━━━━\u001b[0m\u001b[37m\u001b[0m \u001b[1m21s\u001b[0m 1ms/step - loss: 229.5074 - mean_squared_error: 229.5074 - val_loss: 230.1998 - val_mean_squared_error: 230.1998\n",
      "Epoch 12/15\n",
      "\u001b[1m18864/18864\u001b[0m \u001b[32m━━━━━━━━━━━━━━━━━━━━\u001b[0m\u001b[37m\u001b[0m \u001b[1m21s\u001b[0m 1ms/step - loss: 227.7158 - mean_squared_error: 227.7158 - val_loss: 228.5724 - val_mean_squared_error: 228.5724\n",
      "Epoch 13/15\n",
      "\u001b[1m18864/18864\u001b[0m \u001b[32m━━━━━━━━━━━━━━━━━━━━\u001b[0m\u001b[37m\u001b[0m \u001b[1m21s\u001b[0m 1ms/step - loss: 226.3208 - mean_squared_error: 226.3208 - val_loss: 227.6202 - val_mean_squared_error: 227.6202\n",
      "Epoch 14/15\n",
      "\u001b[1m18864/18864\u001b[0m \u001b[32m━━━━━━━━━━━━━━━━━━━━\u001b[0m\u001b[37m\u001b[0m \u001b[1m21s\u001b[0m 1ms/step - loss: 225.2870 - mean_squared_error: 225.2870 - val_loss: 227.4003 - val_mean_squared_error: 227.4003\n",
      "Epoch 15/15\n",
      "\u001b[1m18864/18864\u001b[0m \u001b[32m━━━━━━━━━━━━━━━━━━━━\u001b[0m\u001b[37m\u001b[0m \u001b[1m21s\u001b[0m 1ms/step - loss: 224.6627 - mean_squared_error: 224.6627 - val_loss: 227.2644 - val_mean_squared_error: 227.2644\n"
     ]
    },
    {
     "name": "stderr",
     "output_type": "stream",
     "text": [
      "[I 2025-03-08 20:07:03,717] Trial 6 finished with value: 227.26441955566406 and parameters: {'n_layers': 2, 'hidden_layer_size': 76, 'initial_learning_rate': 0.0019549918469392667, 'n_epochs': 15, 'batch_size': 32}. Best is trial 5 with value: 190.13284301757812.\n"
     ]
    },
    {
     "name": "stdout",
     "output_type": "stream",
     "text": [
      "Batching datasets...\n",
      "Building model...\n",
      "Training model...\n",
      "Epoch 1/30\n"
     ]
    },
    {
     "name": "stderr",
     "output_type": "stream",
     "text": [
      "2025-03-08 20:07:19.349065: I tensorflow/core/framework/local_rendezvous.cc:404] Local rendezvous is aborting with status: OUT_OF_RANGE: End of sequence\n"
     ]
    },
    {
     "name": "stdout",
     "output_type": "stream",
     "text": [
      "\u001b[1m9432/9432\u001b[0m \u001b[32m━━━━━━━━━━━━━━━━━━━━\u001b[0m\u001b[37m\u001b[0m \u001b[1m19s\u001b[0m 2ms/step - loss: 2772.9873 - mean_squared_error: 2772.9873 - val_loss: 300.4603 - val_mean_squared_error: 300.4603\n",
      "Epoch 2/30\n",
      "\u001b[1m9432/9432\u001b[0m \u001b[32m━━━━━━━━━━━━━━━━━━━━\u001b[0m\u001b[37m\u001b[0m \u001b[1m32s\u001b[0m 3ms/step - loss: 294.5843 - mean_squared_error: 294.5843 - val_loss: 275.9960 - val_mean_squared_error: 275.9960\n",
      "Epoch 3/30\n",
      "\u001b[1m9432/9432\u001b[0m \u001b[32m━━━━━━━━━━━━━━━━━━━━\u001b[0m\u001b[37m\u001b[0m \u001b[1m30s\u001b[0m 3ms/step - loss: 274.2897 - mean_squared_error: 274.2897 - val_loss: 265.1030 - val_mean_squared_error: 265.1030\n",
      "Epoch 4/30\n",
      "\u001b[1m9432/9432\u001b[0m \u001b[32m━━━━━━━━━━━━━━━━━━━━\u001b[0m\u001b[37m\u001b[0m \u001b[1m18s\u001b[0m 2ms/step - loss: 264.2128 - mean_squared_error: 264.2128 - val_loss: 258.7867 - val_mean_squared_error: 258.7867\n",
      "Epoch 5/30\n",
      "\u001b[1m9432/9432\u001b[0m \u001b[32m━━━━━━━━━━━━━━━━━━━━\u001b[0m\u001b[37m\u001b[0m \u001b[1m18s\u001b[0m 2ms/step - loss: 257.8407 - mean_squared_error: 257.8407 - val_loss: 253.9206 - val_mean_squared_error: 253.9206\n",
      "Epoch 6/30\n",
      "\u001b[1m9432/9432\u001b[0m \u001b[32m━━━━━━━━━━━━━━━━━━━━\u001b[0m\u001b[37m\u001b[0m \u001b[1m18s\u001b[0m 2ms/step - loss: 253.1473 - mean_squared_error: 253.1473 - val_loss: 250.0022 - val_mean_squared_error: 250.0022\n",
      "Epoch 7/30\n",
      "\u001b[1m9432/9432\u001b[0m \u001b[32m━━━━━━━━━━━━━━━━━━━━\u001b[0m\u001b[37m\u001b[0m \u001b[1m18s\u001b[0m 2ms/step - loss: 249.2688 - mean_squared_error: 249.2688 - val_loss: 246.6407 - val_mean_squared_error: 246.6407\n",
      "Epoch 8/30\n",
      "\u001b[1m9432/9432\u001b[0m \u001b[32m━━━━━━━━━━━━━━━━━━━━\u001b[0m\u001b[37m\u001b[0m \u001b[1m27s\u001b[0m 3ms/step - loss: 245.9483 - mean_squared_error: 245.9484 - val_loss: 243.7758 - val_mean_squared_error: 243.7758\n",
      "Epoch 9/30\n",
      "\u001b[1m9432/9432\u001b[0m \u001b[32m━━━━━━━━━━━━━━━━━━━━\u001b[0m\u001b[37m\u001b[0m \u001b[1m30s\u001b[0m 3ms/step - loss: 241.8825 - mean_squared_error: 241.8825 - val_loss: 238.5820 - val_mean_squared_error: 238.5820\n",
      "Epoch 10/30\n",
      "\u001b[1m9432/9432\u001b[0m \u001b[32m━━━━━━━━━━━━━━━━━━━━\u001b[0m\u001b[37m\u001b[0m \u001b[1m21s\u001b[0m 2ms/step - loss: 237.2747 - mean_squared_error: 237.2748 - val_loss: 236.2837 - val_mean_squared_error: 236.2837\n",
      "Epoch 11/30\n",
      "\u001b[1m9432/9432\u001b[0m \u001b[32m━━━━━━━━━━━━━━━━━━━━\u001b[0m\u001b[37m\u001b[0m \u001b[1m18s\u001b[0m 2ms/step - loss: 233.4943 - mean_squared_error: 233.4944 - val_loss: 233.3349 - val_mean_squared_error: 233.3349\n",
      "Epoch 12/30\n",
      "\u001b[1m9432/9432\u001b[0m \u001b[32m━━━━━━━━━━━━━━━━━━━━\u001b[0m\u001b[37m\u001b[0m \u001b[1m18s\u001b[0m 2ms/step - loss: 230.6907 - mean_squared_error: 230.6907 - val_loss: 230.5284 - val_mean_squared_error: 230.5284\n",
      "Epoch 13/30\n",
      "\u001b[1m9432/9432\u001b[0m \u001b[32m━━━━━━━━━━━━━━━━━━━━\u001b[0m\u001b[37m\u001b[0m \u001b[1m20s\u001b[0m 2ms/step - loss: 228.4281 - mean_squared_error: 228.4281 - val_loss: 228.4331 - val_mean_squared_error: 228.4331\n",
      "Epoch 14/30\n",
      "\u001b[1m9432/9432\u001b[0m \u001b[32m━━━━━━━━━━━━━━━━━━━━\u001b[0m\u001b[37m\u001b[0m \u001b[1m18s\u001b[0m 2ms/step - loss: 226.1752 - mean_squared_error: 226.1752 - val_loss: 226.0682 - val_mean_squared_error: 226.0682\n",
      "Epoch 15/30\n",
      "\u001b[1m9432/9432\u001b[0m \u001b[32m━━━━━━━━━━━━━━━━━━━━\u001b[0m\u001b[37m\u001b[0m \u001b[1m18s\u001b[0m 2ms/step - loss: 223.9785 - mean_squared_error: 223.9786 - val_loss: 224.7607 - val_mean_squared_error: 224.7607\n",
      "Epoch 16/30\n",
      "\u001b[1m9432/9432\u001b[0m \u001b[32m━━━━━━━━━━━━━━━━━━━━\u001b[0m\u001b[37m\u001b[0m \u001b[1m19s\u001b[0m 2ms/step - loss: 221.9124 - mean_squared_error: 221.9124 - val_loss: 223.3869 - val_mean_squared_error: 223.3869\n",
      "Epoch 17/30\n",
      "\u001b[1m9432/9432\u001b[0m \u001b[32m━━━━━━━━━━━━━━━━━━━━\u001b[0m\u001b[37m\u001b[0m \u001b[1m17s\u001b[0m 2ms/step - loss: 219.9062 - mean_squared_error: 219.9062 - val_loss: 221.7486 - val_mean_squared_error: 221.7486\n",
      "Epoch 18/30\n",
      "\u001b[1m9432/9432\u001b[0m \u001b[32m━━━━━━━━━━━━━━━━━━━━\u001b[0m\u001b[37m\u001b[0m \u001b[1m16s\u001b[0m 2ms/step - loss: 218.0032 - mean_squared_error: 218.0032 - val_loss: 220.4456 - val_mean_squared_error: 220.4456\n",
      "Epoch 19/30\n",
      "\u001b[1m9432/9432\u001b[0m \u001b[32m━━━━━━━━━━━━━━━━━━━━\u001b[0m\u001b[37m\u001b[0m \u001b[1m16s\u001b[0m 2ms/step - loss: 216.2617 - mean_squared_error: 216.2618 - val_loss: 218.8602 - val_mean_squared_error: 218.8602\n",
      "Epoch 20/30\n",
      "\u001b[1m9432/9432\u001b[0m \u001b[32m━━━━━━━━━━━━━━━━━━━━\u001b[0m\u001b[37m\u001b[0m \u001b[1m17s\u001b[0m 2ms/step - loss: 214.6270 - mean_squared_error: 214.6270 - val_loss: 216.9514 - val_mean_squared_error: 216.9514\n",
      "Epoch 21/30\n",
      "\u001b[1m9432/9432\u001b[0m \u001b[32m━━━━━━━━━━━━━━━━━━━━\u001b[0m\u001b[37m\u001b[0m \u001b[1m18s\u001b[0m 2ms/step - loss: 213.2259 - mean_squared_error: 213.2259 - val_loss: 215.5741 - val_mean_squared_error: 215.5741\n",
      "Epoch 22/30\n",
      "\u001b[1m9432/9432\u001b[0m \u001b[32m━━━━━━━━━━━━━━━━━━━━\u001b[0m\u001b[37m\u001b[0m \u001b[1m18s\u001b[0m 2ms/step - loss: 212.0187 - mean_squared_error: 212.0187 - val_loss: 214.2637 - val_mean_squared_error: 214.2637\n",
      "Epoch 23/30\n",
      "\u001b[1m9432/9432\u001b[0m \u001b[32m━━━━━━━━━━━━━━━━━━━━\u001b[0m\u001b[37m\u001b[0m \u001b[1m34s\u001b[0m 4ms/step - loss: 210.9365 - mean_squared_error: 210.9365 - val_loss: 213.1109 - val_mean_squared_error: 213.1109\n",
      "Epoch 24/30\n",
      "\u001b[1m9432/9432\u001b[0m \u001b[32m━━━━━━━━━━━━━━━━━━━━\u001b[0m\u001b[37m\u001b[0m \u001b[1m32s\u001b[0m 3ms/step - loss: 210.0263 - mean_squared_error: 210.0263 - val_loss: 212.7220 - val_mean_squared_error: 212.7220\n",
      "Epoch 25/30\n",
      "\u001b[1m9432/9432\u001b[0m \u001b[32m━━━━━━━━━━━━━━━━━━━━\u001b[0m\u001b[37m\u001b[0m \u001b[1m31s\u001b[0m 3ms/step - loss: 209.2922 - mean_squared_error: 209.2922 - val_loss: 212.3716 - val_mean_squared_error: 212.3716\n",
      "Epoch 26/30\n",
      "\u001b[1m9432/9432\u001b[0m \u001b[32m━━━━━━━━━━━━━━━━━━━━\u001b[0m\u001b[37m\u001b[0m \u001b[1m18s\u001b[0m 2ms/step - loss: 208.7235 - mean_squared_error: 208.7236 - val_loss: 211.9244 - val_mean_squared_error: 211.9244\n",
      "Epoch 27/30\n",
      "\u001b[1m9432/9432\u001b[0m \u001b[32m━━━━━━━━━━━━━━━━━━━━\u001b[0m\u001b[37m\u001b[0m \u001b[1m18s\u001b[0m 2ms/step - loss: 208.2662 - mean_squared_error: 208.2663 - val_loss: 211.7060 - val_mean_squared_error: 211.7060\n",
      "Epoch 28/30\n",
      "\u001b[1m9432/9432\u001b[0m \u001b[32m━━━━━━━━━━━━━━━━━━━━\u001b[0m\u001b[37m\u001b[0m \u001b[1m18s\u001b[0m 2ms/step - loss: 207.9289 - mean_squared_error: 207.9290 - val_loss: 211.5251 - val_mean_squared_error: 211.5251\n",
      "Epoch 29/30\n",
      "\u001b[1m9432/9432\u001b[0m \u001b[32m━━━━━━━━━━━━━━━━━━━━\u001b[0m\u001b[37m\u001b[0m \u001b[1m18s\u001b[0m 2ms/step - loss: 207.7025 - mean_squared_error: 207.7025 - val_loss: 211.4077 - val_mean_squared_error: 211.4077\n",
      "Epoch 30/30\n",
      "\u001b[1m9432/9432\u001b[0m \u001b[32m━━━━━━━━━━━━━━━━━━━━\u001b[0m\u001b[37m\u001b[0m \u001b[1m20s\u001b[0m 2ms/step - loss: 207.5683 - mean_squared_error: 207.5683 - val_loss: 211.3749 - val_mean_squared_error: 211.3749\n"
     ]
    },
    {
     "name": "stderr",
     "output_type": "stream",
     "text": [
      "[I 2025-03-08 20:17:56,035] Trial 7 finished with value: 211.3748779296875 and parameters: {'n_layers': 4, 'hidden_layer_size': 299, 'initial_learning_rate': 0.00023473709905895784, 'n_epochs': 30, 'batch_size': 64}. Best is trial 5 with value: 190.13284301757812.\n"
     ]
    },
    {
     "name": "stdout",
     "output_type": "stream",
     "text": [
      "Batching datasets...\n",
      "Building model...\n",
      "Training model...\n",
      "Epoch 1/5\n",
      "\u001b[1m18864/18864\u001b[0m \u001b[32m━━━━━━━━━━━━━━━━━━━━\u001b[0m\u001b[37m\u001b[0m \u001b[1m33s\u001b[0m 2ms/step - loss: 1083.0474 - mean_squared_error: 1083.0474 - val_loss: 267.1155 - val_mean_squared_error: 267.1155\n",
      "Epoch 2/5\n",
      "\u001b[1m18864/18864\u001b[0m \u001b[32m━━━━━━━━━━━━━━━━━━━━\u001b[0m\u001b[37m\u001b[0m \u001b[1m23s\u001b[0m 1ms/step - loss: 269.0065 - mean_squared_error: 269.0065 - val_loss: 253.9380 - val_mean_squared_error: 253.9380\n",
      "Epoch 3/5\n",
      "\u001b[1m18864/18864\u001b[0m \u001b[32m━━━━━━━━━━━━━━━━━━━━\u001b[0m\u001b[37m\u001b[0m \u001b[1m22s\u001b[0m 1ms/step - loss: 251.6934 - mean_squared_error: 251.6934 - val_loss: 241.4925 - val_mean_squared_error: 241.4925\n",
      "Epoch 4/5\n",
      "\u001b[1m18864/18864\u001b[0m \u001b[32m━━━━━━━━━━━━━━━━━━━━\u001b[0m\u001b[37m\u001b[0m \u001b[1m22s\u001b[0m 1ms/step - loss: 237.8759 - mean_squared_error: 237.8759 - val_loss: 233.2206 - val_mean_squared_error: 233.2206\n",
      "Epoch 5/5\n",
      "\u001b[1m18864/18864\u001b[0m \u001b[32m━━━━━━━━━━━━━━━━━━━━\u001b[0m\u001b[37m\u001b[0m \u001b[1m31s\u001b[0m 2ms/step - loss: 229.6408 - mean_squared_error: 229.6408 - val_loss: 230.4677 - val_mean_squared_error: 230.4677\n"
     ]
    },
    {
     "name": "stderr",
     "output_type": "stream",
     "text": [
      "[I 2025-03-08 20:20:31,481] Trial 8 finished with value: 230.46766662597656 and parameters: {'n_layers': 1, 'hidden_layer_size': 502, 'initial_learning_rate': 0.0024490315446469044, 'n_epochs': 5, 'batch_size': 32}. Best is trial 5 with value: 190.13284301757812.\n"
     ]
    },
    {
     "name": "stdout",
     "output_type": "stream",
     "text": [
      "Batching datasets...\n",
      "Building model...\n",
      "Training model...\n",
      "Epoch 1/25\n",
      "\u001b[1m18864/18864\u001b[0m \u001b[32m━━━━━━━━━━━━━━━━━━━━\u001b[0m\u001b[37m\u001b[0m \u001b[1m20s\u001b[0m 1ms/step - loss: 14310.4199 - mean_squared_error: 14310.4199 - val_loss: 405.1011 - val_mean_squared_error: 405.1011\n",
      "Epoch 2/25\n",
      "\u001b[1m18864/18864\u001b[0m \u001b[32m━━━━━━━━━━━━━━━━━━━━\u001b[0m\u001b[37m\u001b[0m \u001b[1m20s\u001b[0m 1ms/step - loss: 377.4053 - mean_squared_error: 377.4053 - val_loss: 335.9081 - val_mean_squared_error: 335.9081\n",
      "Epoch 3/25\n",
      "\u001b[1m18864/18864\u001b[0m \u001b[32m━━━━━━━━━━━━━━━━━━━━\u001b[0m\u001b[37m\u001b[0m \u001b[1m21s\u001b[0m 1ms/step - loss: 331.9269 - mean_squared_error: 331.9269 - val_loss: 318.6389 - val_mean_squared_error: 318.6389\n",
      "Epoch 4/25\n",
      "\u001b[1m18864/18864\u001b[0m \u001b[32m━━━━━━━━━━━━━━━━━━━━\u001b[0m\u001b[37m\u001b[0m \u001b[1m20s\u001b[0m 1ms/step - loss: 316.3176 - mean_squared_error: 316.3176 - val_loss: 307.0570 - val_mean_squared_error: 307.0570\n",
      "Epoch 5/25\n",
      "\u001b[1m18864/18864\u001b[0m \u001b[32m━━━━━━━━━━━━━━━━━━━━\u001b[0m\u001b[37m\u001b[0m \u001b[1m20s\u001b[0m 1ms/step - loss: 305.2882 - mean_squared_error: 305.2882 - val_loss: 298.9324 - val_mean_squared_error: 298.9324\n",
      "Epoch 6/25\n",
      "\u001b[1m18864/18864\u001b[0m \u001b[32m━━━━━━━━━━━━━━━━━━━━\u001b[0m\u001b[37m\u001b[0m \u001b[1m20s\u001b[0m 1ms/step - loss: 297.5993 - mean_squared_error: 297.5993 - val_loss: 293.5770 - val_mean_squared_error: 293.5770\n",
      "Epoch 7/25\n",
      "\u001b[1m18864/18864\u001b[0m \u001b[32m━━━━━━━━━━━━━━━━━━━━\u001b[0m\u001b[37m\u001b[0m \u001b[1m19s\u001b[0m 1ms/step - loss: 292.5936 - mean_squared_error: 292.5936 - val_loss: 289.9185 - val_mean_squared_error: 289.9185\n",
      "Epoch 8/25\n",
      "\u001b[1m18864/18864\u001b[0m \u001b[32m━━━━━━━━━━━━━━━━━━━━\u001b[0m\u001b[37m\u001b[0m \u001b[1m17s\u001b[0m 896us/step - loss: 289.0364 - mean_squared_error: 289.0364 - val_loss: 287.1065 - val_mean_squared_error: 287.1065\n",
      "Epoch 9/25\n",
      "\u001b[1m18864/18864\u001b[0m \u001b[32m━━━━━━━━━━━━━━━━━━━━\u001b[0m\u001b[37m\u001b[0m \u001b[1m17s\u001b[0m 903us/step - loss: 286.3044 - mean_squared_error: 286.3044 - val_loss: 284.8484 - val_mean_squared_error: 284.8484\n",
      "Epoch 10/25\n",
      "\u001b[1m18864/18864\u001b[0m \u001b[32m━━━━━━━━━━━━━━━━━━━━\u001b[0m\u001b[37m\u001b[0m \u001b[1m19s\u001b[0m 1ms/step - loss: 284.1043 - mean_squared_error: 284.1043 - val_loss: 282.9424 - val_mean_squared_error: 282.9424\n",
      "Epoch 11/25\n",
      "\u001b[1m18864/18864\u001b[0m \u001b[32m━━━━━━━━━━━━━━━━━━━━\u001b[0m\u001b[37m\u001b[0m \u001b[1m20s\u001b[0m 1ms/step - loss: 282.2563 - mean_squared_error: 282.2563 - val_loss: 281.2741 - val_mean_squared_error: 281.2741\n",
      "Epoch 12/25\n",
      "\u001b[1m18864/18864\u001b[0m \u001b[32m━━━━━━━━━━━━━━━━━━━━\u001b[0m\u001b[37m\u001b[0m \u001b[1m20s\u001b[0m 1ms/step - loss: 280.6666 - mean_squared_error: 280.6666 - val_loss: 279.8263 - val_mean_squared_error: 279.8263\n",
      "Epoch 13/25\n",
      "\u001b[1m18864/18864\u001b[0m \u001b[32m━━━━━━━━━━━━━━━━━━━━\u001b[0m\u001b[37m\u001b[0m \u001b[1m22s\u001b[0m 1ms/step - loss: 279.3004 - mean_squared_error: 279.3004 - val_loss: 278.5948 - val_mean_squared_error: 278.5948\n",
      "Epoch 14/25\n",
      "\u001b[1m18864/18864\u001b[0m \u001b[32m━━━━━━━━━━━━━━━━━━━━\u001b[0m\u001b[37m\u001b[0m \u001b[1m20s\u001b[0m 1ms/step - loss: 278.1372 - mean_squared_error: 278.1372 - val_loss: 277.5482 - val_mean_squared_error: 277.5482\n",
      "Epoch 15/25\n",
      "\u001b[1m18864/18864\u001b[0m \u001b[32m━━━━━━━━━━━━━━━━━━━━\u001b[0m\u001b[37m\u001b[0m \u001b[1m20s\u001b[0m 1ms/step - loss: 277.1557 - mean_squared_error: 277.1557 - val_loss: 276.6760 - val_mean_squared_error: 276.6760\n",
      "Epoch 16/25\n",
      "\u001b[1m18864/18864\u001b[0m \u001b[32m━━━━━━━━━━━━━━━━━━━━\u001b[0m\u001b[37m\u001b[0m \u001b[1m20s\u001b[0m 1ms/step - loss: 276.3368 - mean_squared_error: 276.3368 - val_loss: 275.9722 - val_mean_squared_error: 275.9722\n",
      "Epoch 17/25\n",
      "\u001b[1m18864/18864\u001b[0m \u001b[32m━━━━━━━━━━━━━━━━━━━━\u001b[0m\u001b[37m\u001b[0m \u001b[1m20s\u001b[0m 1ms/step - loss: 275.6687 - mean_squared_error: 275.6687 - val_loss: 275.4182 - val_mean_squared_error: 275.4182\n",
      "Epoch 18/25\n",
      "\u001b[1m18864/18864\u001b[0m \u001b[32m━━━━━━━━━━━━━━━━━━━━\u001b[0m\u001b[37m\u001b[0m \u001b[1m20s\u001b[0m 1ms/step - loss: 275.1362 - mean_squared_error: 275.1362 - val_loss: 274.9918 - val_mean_squared_error: 274.9918\n",
      "Epoch 19/25\n",
      "\u001b[1m18864/18864\u001b[0m \u001b[32m━━━━━━━━━━━━━━━━━━━━\u001b[0m\u001b[37m\u001b[0m \u001b[1m20s\u001b[0m 1ms/step - loss: 274.7225 - mean_squared_error: 274.7225 - val_loss: 274.6736 - val_mean_squared_error: 274.6736\n",
      "Epoch 20/25\n",
      "\u001b[1m18864/18864\u001b[0m \u001b[32m━━━━━━━━━━━━━━━━━━━━\u001b[0m\u001b[37m\u001b[0m \u001b[1m20s\u001b[0m 1ms/step - loss: 274.4115 - mean_squared_error: 274.4115 - val_loss: 274.4449 - val_mean_squared_error: 274.4449\n",
      "Epoch 21/25\n",
      "\u001b[1m18864/18864\u001b[0m \u001b[32m━━━━━━━━━━━━━━━━━━━━\u001b[0m\u001b[37m\u001b[0m \u001b[1m20s\u001b[0m 1ms/step - loss: 274.1839 - mean_squared_error: 274.1839 - val_loss: 274.2872 - val_mean_squared_error: 274.2872\n",
      "Epoch 22/25\n",
      "\u001b[1m18864/18864\u001b[0m \u001b[32m━━━━━━━━━━━━━━━━━━━━\u001b[0m\u001b[37m\u001b[0m \u001b[1m20s\u001b[0m 1ms/step - loss: 274.0266 - mean_squared_error: 274.0266 - val_loss: 274.1852 - val_mean_squared_error: 274.1852\n",
      "Epoch 23/25\n",
      "\u001b[1m18864/18864\u001b[0m \u001b[32m━━━━━━━━━━━━━━━━━━━━\u001b[0m\u001b[37m\u001b[0m \u001b[1m20s\u001b[0m 1ms/step - loss: 273.9237 - mean_squared_error: 273.9237 - val_loss: 274.1305 - val_mean_squared_error: 274.1305\n",
      "Epoch 24/25\n",
      "\u001b[1m18864/18864\u001b[0m \u001b[32m━━━━━━━━━━━━━━━━━━━━\u001b[0m\u001b[37m\u001b[0m \u001b[1m20s\u001b[0m 1ms/step - loss: 273.8649 - mean_squared_error: 273.8649 - val_loss: 274.1100 - val_mean_squared_error: 274.1100\n",
      "Epoch 25/25\n",
      "\u001b[1m18864/18864\u001b[0m \u001b[32m━━━━━━━━━━━━━━━━━━━━\u001b[0m\u001b[37m\u001b[0m \u001b[1m20s\u001b[0m 1ms/step - loss: 273.8384 - mean_squared_error: 273.8384 - val_loss: 274.1060 - val_mean_squared_error: 274.1060\n"
     ]
    },
    {
     "name": "stderr",
     "output_type": "stream",
     "text": [
      "[I 2025-03-08 20:29:07,126] Trial 9 finished with value: 274.10595703125 and parameters: {'n_layers': 1, 'hidden_layer_size': 82, 'initial_learning_rate': 0.00012687052050364302, 'n_epochs': 25, 'batch_size': 32}. Best is trial 5 with value: 190.13284301757812.\n"
     ]
    },
    {
     "name": "stdout",
     "output_type": "stream",
     "text": [
      "Number of finished trials: 10\n",
      "Best trial: {'n_layers': 4, 'hidden_layer_size': 355, 'initial_learning_rate': 0.0018702419332025772, 'n_epochs': 20, 'batch_size': 128}\n"
     ]
    },
    {
     "name": "stderr",
     "output_type": "stream",
     "text": [
      "127.0.0.1 - - [08/Mar/2025 20:30:50] \"GET / HTTP/1.1\" 302 0\n"
     ]
    }
   ],
   "source": [
    "import optuna\n",
    "from optuna_dashboard import run_server\n",
    "from DatasetClass import DatasetPt\n",
    "from ModelClass import RegressionModel\n",
    "import threading\n",
    "\n",
    "# ======================\n",
    "# 1. Build/Load Dataset (Outside Optuna Loop for Efficiency)\n",
    "# ======================\n",
    "dataset = DatasetPt(file_paths=\"erik_data\", file_name=\"erik_data\")\n",
    "dataset.load_data()\n",
    "\n",
    "print(\"Train dataset size:\", len(dataset.train_dataset))\n",
    "\n",
    "# ============================\n",
    "# 2. Define Optuna Objective (Fast Training)\n",
    "# ============================\n",
    "def objective(trial):\n",
    "    \"\"\"\n",
    "    Optuna objective function for hyperparameter search.\n",
    "    \"\"\"\n",
    "\n",
    "    model = RegressionModel(\n",
    "        dataset,\n",
    "        n_layers             = trial.suggest_int('n_layers', 1, 5),\n",
    "        hidden_layer_size    = trial.suggest_int('hidden_layer_size', 32, 512),\n",
    "        initial_learning_rate= trial.suggest_float('initial_learning_rate', 1e-4, 1e-2, log=True),\n",
    "        n_epochs             = trial.suggest_int('n_epochs', 5, 30, step=5),\n",
    "        activation_function  = 'relu',\n",
    "        batch_size           = trial.suggest_int('batch_size', 32,128,step=32)\n",
    "    )\n",
    "\n",
    "    model.prepare_dataset()\n",
    "    model.create_normalizer()\n",
    "    model.build_model()\n",
    "    model.train_model(model.train_batch, model.val_batch)\n",
    "\n",
    "    val_loss, _ = model.model.evaluate(model.val_batch, verbose=0)\n",
    "    return val_loss\n",
    "\n",
    "# ========================\n",
    "# 3. Run the Optuna Study\n",
    "# ========================\n",
    "study = optuna.create_study(storage=\"sqlite:///optuna.db\", study_name=\"Higgs_analysis_pt\", direction='minimize')\n",
    "\n",
    "# ========================\n",
    "# 4. Start `optuna-dashboard` in a Separate Thread\n",
    "# ========================\n",
    "\n",
    "def run_dashboard():\n",
    "    server = run_server(\"sqlite:///optuna.db\", host=\"0.0.0.0\", port=8080)\n",
    "    server.run()  # Run dashboard continuously in a separate thread\n",
    "\n",
    "dashboard_thread = threading.Thread(target=run_dashboard)\n",
    "dashboard_thread.daemon = True  # Ensures it stops when the script ends\n",
    "dashboard_thread.start()\n",
    "\n",
    "def run_optuna():\n",
    "    study.optimize(objective, n_trials=10, n_jobs=1)\n",
    "\n",
    "# Run Optuna in a separate thread so the dashboard can be accessed in real-time\n",
    "optuna_thread = threading.Thread(target=run_optuna)\n",
    "optuna_thread.start()\n",
    "\n",
    "# ========================\n",
    "# 5. Print Results\n",
    "# ========================\n",
    "optuna_thread.join()  # Wait for Optuna to finish before printing results\n",
    "print(\"Number of finished trials:\", len(study.trials))\n",
    "print(\"Best trial:\", study.best_trial.params)\n",
    "\n",
    "# Dashboard will keep running in background\n"
   ]
  }
 ],
 "metadata": {
  "kernelspec": {
   "display_name": "tf gpu",
   "language": "python",
   "name": "tf"
  },
  "language_info": {
   "codemirror_mode": {
    "name": "ipython",
    "version": 3
   },
   "file_extension": ".py",
   "mimetype": "text/x-python",
   "name": "python",
   "nbconvert_exporter": "python",
   "pygments_lexer": "ipython3",
   "version": "3.11.0rc1"
  }
 },
 "nbformat": 4,
 "nbformat_minor": 2
}
