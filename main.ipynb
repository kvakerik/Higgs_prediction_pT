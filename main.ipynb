{
 "cells": [
  {
   "cell_type": "code",
   "execution_count": 1,
   "metadata": {},
   "outputs": [
    {
     "name": "stderr",
     "output_type": "stream",
     "text": [
      "2025-03-04 00:14:58.929517: E external/local_xla/xla/stream_executor/cuda/cuda_fft.cc:485] Unable to register cuFFT factory: Attempting to register factory for plugin cuFFT when one has already been registered\n",
      "2025-03-04 00:14:58.950864: E external/local_xla/xla/stream_executor/cuda/cuda_dnn.cc:8454] Unable to register cuDNN factory: Attempting to register factory for plugin cuDNN when one has already been registered\n",
      "2025-03-04 00:14:58.957472: E external/local_xla/xla/stream_executor/cuda/cuda_blas.cc:1452] Unable to register cuBLAS factory: Attempting to register factory for plugin cuBLAS when one has already been registered\n",
      "2025-03-04 00:14:58.974419: I tensorflow/core/platform/cpu_feature_guard.cc:210] This TensorFlow binary is optimized to use available CPU instructions in performance-critical operations.\n",
      "To enable the following instructions: AVX2 FMA, in other operations, rebuild TensorFlow with the appropriate compiler flags.\n",
      "2025-03-04 00:15:03.877760: E external/local_xla/xla/stream_executor/cuda/cuda_driver.cc:266] failed call to cuInit: CUDA_ERROR_NO_DEVICE: no CUDA-capable device is detected\n"
     ]
    }
   ],
   "source": [
    "from ModelClass import RegressionModel\n",
    "from DatasetClass import Dataset, DatasetMass\n",
    "import matplotlib.pyplot as plt\n",
    "import numpy as np\n",
    "import itertools\n",
    "from src.helpers import make_filter_slice"
   ]
  },
  {
   "cell_type": "code",
   "execution_count": 1,
   "metadata": {},
   "outputs": [],
   "source": [
    "erik_data = \"/scratch/ucjf-atlas/htautau/SM_Htautau_R22/V02_skim_mva_01/*/*/*/*/*H125*.root\"\n",
    "patrik_data = \"/scratch/ucjf-atlas/htautau/SM_Htautau_R22/V02_skim_mva_01/*/*/*/*/*Ztt*.root\"\n"
   ]
  },
  {
   "cell_type": "code",
   "execution_count": 2,
   "metadata": {},
   "outputs": [
    {
     "ename": "NameError",
     "evalue": "name 'Dataset' is not defined",
     "output_type": "error",
     "traceback": [
      "\u001b[0;31m---------------------------------------------------------------------------\u001b[0m",
      "\u001b[0;31mNameError\u001b[0m                                 Traceback (most recent call last)",
      "Cell \u001b[0;32mIn[2], line 1\u001b[0m\n\u001b[0;32m----> 1\u001b[0m dataset \u001b[38;5;241m=\u001b[39m \u001b[43mDataset\u001b[49m(file_paths\u001b[38;5;241m=\u001b[39merik_data, file_name \u001b[38;5;241m=\u001b[39m \u001b[38;5;124m\"\u001b[39m\u001b[38;5;124merik_data\u001b[39m\u001b[38;5;124m\"\u001b[39m)\n\u001b[1;32m      2\u001b[0m dataset\u001b[38;5;241m.\u001b[39mload_data()\n\u001b[1;32m      4\u001b[0m \u001b[38;5;28mprint\u001b[39m(\u001b[38;5;28mlen\u001b[39m(dataset\u001b[38;5;241m.\u001b[39mtrain_dataset))\n",
      "\u001b[0;31mNameError\u001b[0m: name 'Dataset' is not defined"
     ]
    }
   ],
   "source": [
    "dataset = Dataset(file_paths=erik_data, file_name = \"erik_data\")\n",
    "dataset.load_data()\n",
    "\n",
    "print(len(dataset.train_dataset))\n",
    "\n",
    "#This block of code iterates through the dataset and extracts the pt values of the labels and stores them in a list\n",
    "data = [labels.numpy()[0] for features, labels in dataset.train_dataset.take(100000)]\n",
    "\n",
    "plt.hist(data, bins=100, range=(50, 130), histtype='step', label='pt distribution', density=False)\n",
    "plt.legend(loc='upper right')\n",
    "plt.title('pt distribution of the dataset')\n",
    "plt.xlabel('pt')\n",
    "plt.ylabel('Number of events')\n",
    "plt.show()\n",
    "\n"
   ]
  },
  {
   "cell_type": "code",
   "execution_count": 2,
   "metadata": {},
   "outputs": [],
   "source": [
    "import tensorflow as tf\n",
    "dataset = DatasetMass(file_name = \"data_test\")\n",
    "dataset.load_data()\n",
    "\n"
   ]
  },
  {
   "cell_type": "code",
   "execution_count": 6,
   "metadata": {},
   "outputs": [
    {
     "name": "stdout",
     "output_type": "stream",
     "text": [
      "tf.Tensor([ 0  1  2  3  4  5  6  7 13 14 15 16 17 18 19 20 21 22 23 24 25 26 27 28], shape=(24,), dtype=int64)\n",
      "tf.Tensor(\n",
      "[[ 9.0357765e+01 -7.8804618e-01  1.0913507e+00  0.0000000e+00\n",
      "   1.1544228e+02 -6.3030320e-01  5.1007485e-01  5.1099859e-04\n",
      "   1.5774298e-01  5.8127582e-01  6.0229927e-01  3.7529095e+02\n",
      "   2.0580005e+02  4.6831229e+02  6.3583905e-01 -2.0103385e+00\n",
      "   2.3403393e+01  1.8591090e+02  3.5445452e-01  2.2494874e+00\n",
      "   2.6615793e+01  4.2158942e+02  8.1958336e-01 -2.4181299e+00\n",
      "   5.1056644e+02  1.7842209e+02  0.0000000e+00  8.6021674e-01\n",
      "  -5.4045435e-02  3.0000000e+00  3.0000000e+00  3.0000000e+00\n",
      "   1.0000000e+00  0.0000000e+00  1.0000000e+00]], shape=(1, 35), dtype=float32)\n",
      "tf.Tensor([97.74853], shape=(1,), dtype=float32)\n"
     ]
    },
    {
     "data": {
      "image/png": "[encoded data removed]",
      "text/plain": [
       "<Figure size 640x480 with 1 Axes>"
      ]
     },
     "metadata": {},
     "output_type": "display_data"
    }
   ],
   "source": [
    "import tensorflow as tf\n",
    "\n",
    "dataset.make_slices(n_slices=35)\n",
    "slices = dataset.slices   \n",
    "\n",
    "lorentz_mask = tf.constant(dataset.get_lorentz_mask())  # Shape [35]\n",
    "lorentz_indices = tf.squeeze(tf.where(lorentz_mask), axis=1) \n",
    "print(lorentz_indices)\n",
    "n_vectors = tf.shape(lorentz_indices)[0] // 4\n",
    "lorentz_indices_4d = tf.reshape(lorentz_indices, (n_vectors, 4))  # [n_vectors, 4]\n",
    "\n",
    "@tf.function\n",
    "def augment_lorentz(data, target):\n",
    "    beta = tf.random.uniform(shape=(tf.shape(data)[0],), minval=0.0, maxval=1.0)\n",
    "    gamma = 1.0 / tf.sqrt(1.0 - beta**2)\n",
    "    \n",
    "    # Extract 4-vectors using indices\n",
    "    boosted_data = data\n",
    "    for i in range(n_vectors):\n",
    "        vec_indices = lorentz_indices_4d[i]\n",
    "        print(vec_indices)\n",
    "        pt = data[vec_indices[0]]\n",
    "        eta = data[vec_indices[1]]\n",
    "        phi = data[vec_indices[2]]\n",
    "        E = data[vec_indices[3]]\n",
    "        \n",
    "        # Convert to Cartesian coordinates\n",
    "        px = pt * tf.cos(phi)\n",
    "        py = pt * tf.sin(phi)\n",
    "        pz = pt * tf.sinh(eta)\n",
    "        \n",
    "        # Apply boost along z-axis\n",
    "        beta_exp = tf.expand_dims(beta, 1)\n",
    "        gamma_exp = tf.expand_dims(gamma, 1)\n",
    "        E_prime = gamma_exp * (E - beta_exp * pz)\n",
    "        pz_prime = gamma_exp * (pz - beta_exp * E)\n",
    "        \n",
    "        # Convert back to eta\n",
    "        epsilon = 1e-8\n",
    "        eta_prime = tf.asinh(pz_prime / (pt + epsilon))\n",
    "\n",
    "        boosted_data = tf.tensor_scatter_nd_update(\n",
    "            boosted_data,\n",
    "            indices=tf.expand_dims(vec_indices, axis=1),\n",
    "            updates=tf.stack([pt, eta_prime, phi, E_prime], axis=0)\n",
    "        )\n",
    "        \n",
    "    return boosted_data, target\n",
    "\n",
    "n_events = 1\n",
    "new_dataset = tf.data.Dataset.sample_from_datasets([s.repeat() for s in slices], weights=[1.]*len(slices))\n",
    "new_dataset = new_dataset.take(n_events)\n",
    "batch_dataset = new_dataset.batch(n_events)\n",
    "\n",
    "features, masses = next(iter(batch_dataset))\n",
    "print(features)\n",
    "print(masses)\n",
    "\n",
    "\n",
    "import matplotlib.pyplot as plt\n",
    "plt.hist(masses, range=(70, 130), bins=50)\n",
    "plt.show()\n",
    "\n"
   ]
  },
  {
   "cell_type": "code",
   "execution_count": 8,
   "metadata": {},
   "outputs": [
    {
     "name": "stdout",
     "output_type": "stream",
     "text": [
      "tf.Tensor(\n",
      "[False False  True False False False  True False False  True False False\n",
      " False False False  True False False False  True False False False  True\n",
      " False False False  True False False False False False False False], shape=(35,), dtype=bool)\n",
      "tf.Tensor(\n",
      "[ True  True  True  True  True  True  True  True False False False False\n",
      " False  True  True  True  True  True  True  True  True  True  True  True\n",
      "  True  True  True  True  True False False False False False False], shape=(35,), dtype=bool)\n"
     ]
    },
    {
     "data": {
      "image/png": "[encoded data removed]",
      "text/plain": [
       "<Figure size 640x480 with 1 Axes>"
      ]
     },
     "metadata": {},
     "output_type": "display_data"
    }
   ],
   "source": [
    "\n",
    "import vector as v\n",
    "\n",
    "# augmentation\n",
    "dataset.make_slices(n_slices=1)\n",
    "slices = dataset.slices \n",
    "\n",
    "phi_mask = tf.constant(dataset.get_phi_mask())\n",
    "lorentz_mask = tf.constant(dataset.get_lorentz_mask())\n",
    "print(phi_mask)\n",
    "print(lorentz_mask)\n",
    "\n",
    "@tf.function\n",
    "def augment_phi(data, target):\n",
    "    # generate random rotation angle\n",
    "    angle = tf.random.uniform(shape=(tf.shape(data)[0],), minval=-np.pi, maxval=np.pi)\n",
    "\n",
    "    # apply rotation\n",
    "    data  = tf.where(phi_mask[tf.newaxis, :], data + angle[:, tf.newaxis], data)\n",
    "\n",
    "    # normalize angles between -pi and pi\n",
    "    data = tf.where(phi_mask[tf.newaxis, :], tf.math.atan2(tf.sin(data), tf.cos(data)), data)\n",
    "\n",
    "    return data, target\n",
    "\n",
    "# sample from the slices\n",
    "n_events = 5000\n",
    "new_dataset = tf.data.Dataset.sample_from_datasets([s.repeat() for s in slices], weights=[1.]*len(slices))\n",
    "new_dataset = new_dataset.take(n_events)\n",
    "\n",
    "# apply augmentation\n",
    "new_dataset = new_dataset.map(augment_phi)\n",
    "\n",
    "batch_dataset = new_dataset.batch(n_events)\n",
    "#print(batch_dataset.take(1))\n",
    "#print(type(batch_dataset))\n",
    "#@tf.function\n",
    "#def pick_mass(data, targets):\n",
    "#        return data, targets\n",
    "\n",
    "features, targets = next(iter(batch_dataset))\n",
    "masses = targets\n",
    "\n",
    "import matplotlib.pyplot as plt\n",
    "plt.hist(masses, range=(70, 130), bins=50)\n",
    "plt.show()\n",
    "\n",
    "\n"
   ]
  },
  {
   "cell_type": "code",
   "execution_count": null,
   "metadata": {},
   "outputs": [
    {
     "name": "stdout",
     "output_type": "stream",
     "text": [
      "tf.Tensor(\n",
      "[False False  True False False False  True False False  True False False\n",
      " False False False  True False False False  True False False False  True\n",
      " False False False  True False False False False False False False], shape=(35,), dtype=bool)\n",
      "tf.Tensor(\n",
      "[ True  True  True  True  True  True  True  True False False False False\n",
      " False  True  True  True  True  True  True  True  True  True  True  True\n",
      "  True  True  True  True  True False False False False False False], shape=(35,), dtype=bool)\n"
     ]
    },
    {
     "data": {
      "image/png": "[encoded data removed]",
      "text/plain": [
       "<Figure size 640x480 with 1 Axes>"
      ]
     },
     "metadata": {},
     "output_type": "display_data"
    }
   ],
   "source": [
    "\n",
    "import vector as v\n",
    "\n",
    "# augmentation\n",
    "dataset.make_slices(n_slices=1)\n",
    "slices = dataset.slices \n",
    "\n",
    "phi_mask = tf.constant(dataset.get_phi_mask())\n",
    "lorentz_mask = tf.constant(dataset.get_lorentz_mask())\n",
    "print(phi_mask)\n",
    "print(lorentz_mask)\n",
    "\n",
    "@tf.function\n",
    "def augment_phi(data, target):\n",
    "    # generate random rotation angle\n",
    "    angle = tf.random.uniform(shape=(tf.shape(data)[0],), minval=-np.pi, maxval=np.pi)\n",
    "\n",
    "    # apply rotation\n",
    "    data  = tf.where(phi_mask[tf.newaxis, :], data + angle[:, tf.newaxis], data)\n",
    "\n",
    "    # normalize angles between -pi and pi\n",
    "    data = tf.where(phi_mask[tf.newaxis, :], tf.math.atan2(tf.sin(data), tf.cos(data)), data)\n",
    "\n",
    "    return data, target\n",
    "\n",
    "@tf.function\n",
    "def augment_lorentz(data, target):\n",
    "    beta = tf.random.uniform(shape=(tf.shape(data)[0],), minval=0, maxval=1)\n",
    "\n",
    "    pxs = tf.where(lorentz_mask[tf.newaxis, :], data[:, 0], 0)\n",
    "    pys = tf.where(lorentz_mask[tf.newaxis, :], data[:, 1], 0)\n",
    "    pzs = tf.where(lorentz_mask[tf.newaxis, :], data[:, 2], 0)\n",
    "    Es = tf.where(lorentz_mask[tf.newaxis, :], data[:, 3], 0)\n",
    "\n",
    "    return data, target\n",
    "\n",
    "# sample from the slices\n",
    "n_events = 5000\n",
    "new_dataset = tf.data.Dataset.sample_from_datasets([s.repeat() for s in slices], weights=[1.]*len(slices))\n",
    "new_dataset = new_dataset.take(n_events)\n",
    "\n",
    "# apply augmentation\n",
    "new_dataset = new_dataset.map(augment_phi)\n",
    "\n",
    "batch_dataset = new_dataset.batch(n_events)\n",
    "#print(batch_dataset.take(1))\n",
    "#print(type(batch_dataset))\n",
    "#@tf.function\n",
    "#def pick_mass(data, targets):\n",
    "#        return data, targets\n",
    "\n",
    "features, targets = next(iter(batch_dataset))\n",
    "masses = targets\n",
    "\n",
    "import matplotlib.pyplot as plt\n",
    "plt.hist(masses, range=(70, 130), bins=50)\n",
    "plt.show()\n",
    "\n",
    "\n"
   ]
  },
  {
   "cell_type": "code",
   "execution_count": null,
   "metadata": {},
   "outputs": [
    {
     "name": "stdout",
     "output_type": "stream",
     "text": [
      "6523673\n",
      "Batching datasets...\n",
      "Building model...\n",
      "Training model...\n",
      "Epoch 1/10\n"
     ]
    },
    {
     "name": "stderr",
     "output_type": "stream",
     "text": [
      "2025-01-29 01:07:34.276361: I tensorflow/core/framework/local_rendezvous.cc:405] Local rendezvous is aborting with status: OUT_OF_RANGE: End of sequence\n"
     ]
    },
    {
     "name": "stdout",
     "output_type": "stream",
     "text": [
      "\u001b[1m203865/203865\u001b[0m \u001b[32m━━━━━━━━━━━━━━━━━━━━\u001b[0m\u001b[37m\u001b[0m \u001b[1m220s\u001b[0m 1ms/step - loss: 6972.8779 - mean_squared_error: 6972.8779 - val_loss: 6874.8071 - val_mean_squared_error: 6874.8286\n",
      "Epoch 2/10\n",
      "\u001b[1m203825/203865\u001b[0m \u001b[32m━━━━━━━━━━━━━━━━━━━\u001b[0m\u001b[37m━\u001b[0m \u001b[1m0s\u001b[0m 919us/step - loss: 6946.1182 - mean_squared_error: 6946.1182"
     ]
    }
   ],
   "source": [
    "dataset = Dataset(file_paths=erik_data, file_name = \"erik_data\")\n",
    "dataset.load_data()\n",
    "\n",
    "print(len(dataset.train_dataset))\n",
    "param_grid = {\n",
    "    'batch_size': [32, 64, 128],\n",
    "    'learning_rate': [0.001, 0.01, 0.1],\n",
    "    'epochs': [10, 20, 30]\n",
    "}\n",
    "\n",
    "iterable = list(itertools.product(*param_grid.values()))\n",
    "for params in iterable:\n",
    "    model = RegressionModel(dataset=dataset, batch_size=params[0], initial_learning_rate=params[1], n_epochs=params[2])\n",
    "    model.prepare_dataset()\n",
    "    model.create_normalizer()\n",
    "    model.build_model()\n",
    "    model.train_model(model.train_batch, model.val_batch)\n",
    "    model.plot_history(model.history)"
   ]
  }
 ],
 "metadata": {
  "kernelspec": {
   "display_name": "tf gpu",
   "language": "python",
   "name": "tf"
  },
  "language_info": {
   "codemirror_mode": {
    "name": "ipython",
    "version": 3
   },
   "file_extension": ".py",
   "mimetype": "text/x-python",
   "name": "python",
   "nbconvert_exporter": "python",
   "pygments_lexer": "ipython3",
   "version": "3.11.0rc1"
  }
 },
 "nbformat": 4,
 "nbformat_minor": 2
}
