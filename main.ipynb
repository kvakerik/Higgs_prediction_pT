{
 "cells": [
  {
   "cell_type": "code",
   "execution_count": null,
   "metadata": {},
   "outputs": [
    {
     "name": "stderr",
     "output_type": "stream",
     "text": [
      "2025-03-04 23:27:01.585886: E external/local_xla/xla/stream_executor/cuda/cuda_fft.cc:485] Unable to register cuFFT factory: Attempting to register factory for plugin cuFFT when one has already been registered\n",
      "2025-03-04 23:27:01.607676: E external/local_xla/xla/stream_executor/cuda/cuda_dnn.cc:8454] Unable to register cuDNN factory: Attempting to register factory for plugin cuDNN when one has already been registered\n",
      "2025-03-04 23:27:01.614356: E external/local_xla/xla/stream_executor/cuda/cuda_blas.cc:1452] Unable to register cuBLAS factory: Attempting to register factory for plugin cuBLAS when one has already been registered\n",
      "2025-03-04 23:27:01.632427: I tensorflow/core/platform/cpu_feature_guard.cc:210] This TensorFlow binary is optimized to use available CPU instructions in performance-critical operations.\n",
      "To enable the following instructions: AVX2 FMA, in other operations, rebuild TensorFlow with the appropriate compiler flags.\n",
      "2025-03-04 23:27:05.790065: E external/local_xla/xla/stream_executor/cuda/cuda_driver.cc:266] failed call to cuInit: CUDA_ERROR_NO_DEVICE: no CUDA-capable device is detected\n"
     ]
    }
   ],
   "source": [
    "from ModelClass import RegressionModel\n",
    "from DatasetClass import Dataset, DatasetMass\n",
    "import matplotlib.pyplot as plt\n",
    "import numpy as np\n",
    "import itertools\n",
    "from src.helpers import make_filter_slice\n",
    "import tensorflow as tf"
   ]
  },
  {
   "cell_type": "code",
   "execution_count": 1,
   "metadata": {},
   "outputs": [],
   "source": [
    "erik_data = \"/scratch/ucjf-atlas/htautau/SM_Htautau_R22/V02_skim_mva_01/*/*/*/*/*H125*.root\"\n",
    "patrik_data = \"/scratch/ucjf-atlas/htautau/SM_Htautau_R22/V02_skim_mva_01/*/*/*/*/*Ztt*.root\"\n"
   ]
  },
  {
   "cell_type": "code",
   "execution_count": 2,
   "metadata": {},
   "outputs": [
    {
     "ename": "NameError",
     "evalue": "name 'Dataset' is not defined",
     "output_type": "error",
     "traceback": [
      "\u001b[0;31m---------------------------------------------------------------------------\u001b[0m",
      "\u001b[0;31mNameError\u001b[0m                                 Traceback (most recent call last)",
      "Cell \u001b[0;32mIn[2], line 1\u001b[0m\n\u001b[0;32m----> 1\u001b[0m dataset \u001b[38;5;241m=\u001b[39m \u001b[43mDataset\u001b[49m(file_paths\u001b[38;5;241m=\u001b[39merik_data, file_name \u001b[38;5;241m=\u001b[39m \u001b[38;5;124m\"\u001b[39m\u001b[38;5;124merik_data\u001b[39m\u001b[38;5;124m\"\u001b[39m)\n\u001b[1;32m      2\u001b[0m dataset\u001b[38;5;241m.\u001b[39mload_data()\n\u001b[1;32m      4\u001b[0m \u001b[38;5;28mprint\u001b[39m(\u001b[38;5;28mlen\u001b[39m(dataset\u001b[38;5;241m.\u001b[39mtrain_dataset))\n",
      "\u001b[0;31mNameError\u001b[0m: name 'Dataset' is not defined"
     ]
    }
   ],
   "source": [
    "dataset = Dataset(file_paths=erik_data, file_name = \"erik_data\")\n",
    "dataset.load_data()\n",
    "\n",
    "print(len(dataset.train_dataset))\n",
    "\n",
    "#This block of code iterates through the dataset and extracts the pt values of the labels and stores them in a list\n",
    "data = [labels.numpy()[0] for features, labels in dataset.train_dataset.take(100000)]\n",
    "\n",
    "plt.hist(data, bins=100, range=(50, 130), histtype='step', label='pt distribution', density=False)\n",
    "plt.legend(loc='upper right')\n",
    "plt.title('pt distribution of the dataset')\n",
    "plt.xlabel('pt')\n",
    "plt.ylabel('Number of events')\n",
    "plt.show()\n",
    "\n"
   ]
  },
  {
   "cell_type": "code",
   "execution_count": 2,
   "metadata": {},
   "outputs": [
    {
     "name": "stdout",
     "output_type": "stream",
     "text": [
      "Loading Data\n",
      "Importing Root files\n",
      "All files  36\n",
      "Reading file /scratch/ucjf-atlas/htautau/SM_Htautau_R22/V02_skim_mva_01/mc/lephad/mc23d/nom/user.kilie.Htt_lh_02.mc23_13p6TeV.700901.Sh_2214_Ztt_maxHTpT_Mll10_40_BF.PHYS.e8514_s4159_r15224_p6266.smPre_n_0_HS.NOMINAL.root\n",
      "Processed file /scratch/ucjf-atlas/htautau/SM_Htautau_R22/V02_skim_mva_01/mc/lephad/mc23d/nom/user.kilie.Htt_lh_02.mc23_13p6TeV.700901.Sh_2214_Ztt_maxHTpT_Mll10_40_BF.PHYS.e8514_s4159_r15224_p6266.smPre_n_0_HS.NOMINAL.root: (364, 35), (364, 4)\n",
      "Reading file /scratch/ucjf-atlas/htautau/SM_Htautau_R22/V02_skim_mva_01/mc/lephad/mc23d/nom/user.kilie.Htt_lh_02.mc23_13p6TeV.700903.Sh_2214_Ztt_maxHTpT_Mll10_40_CVBV.PHYS.e8514_s4159_r15224_p6266.smPre_n_0_HS.NOMINAL.root\n",
      "Processed file /scratch/ucjf-atlas/htautau/SM_Htautau_R22/V02_skim_mva_01/mc/lephad/mc23d/nom/user.kilie.Htt_lh_02.mc23_13p6TeV.700903.Sh_2214_Ztt_maxHTpT_Mll10_40_CVBV.PHYS.e8514_s4159_r15224_p6266.smPre_n_0_HS.NOMINAL.root: (3444, 35), (3444, 4)\n",
      "Reading file /scratch/ucjf-atlas/htautau/SM_Htautau_R22/V02_skim_mva_01/mc/lephad/mc23d/nom/user.kilie.Htt_lh_02.mc23_13p6TeV.700902.Sh_2214_Ztt_maxHTpT_Mll10_40_CFBV.PHYS.e8514_s4159_r15224_p6266.smPre_n_0_HS.NOMINAL.root\n",
      "Processed file /scratch/ucjf-atlas/htautau/SM_Htautau_R22/V02_skim_mva_01/mc/lephad/mc23d/nom/user.kilie.Htt_lh_02.mc23_13p6TeV.700902.Sh_2214_Ztt_maxHTpT_Mll10_40_CFBV.PHYS.e8514_s4159_r15224_p6266.smPre_n_0_HS.NOMINAL.root: (1672, 35), (1672, 4)\n",
      "Reading file /scratch/ucjf-atlas/htautau/SM_Htautau_R22/V02_skim_mva_01/mc/lephad/mc23d/nom/user.kilie.Htt_lh_02.mc23_13p6TeV.700794.Sh_2214_Ztt_maxHTpT_CVBV.PHYS.e8514_s4159_r15530_p6266.smPre_n_0_HS.NOMINAL.root\n",
      "Processed file /scratch/ucjf-atlas/htautau/SM_Htautau_R22/V02_skim_mva_01/mc/lephad/mc23d/nom/user.kilie.Htt_lh_02.mc23_13p6TeV.700794.Sh_2214_Ztt_maxHTpT_CVBV.PHYS.e8514_s4159_r15530_p6266.smPre_n_0_HS.NOMINAL.root: (2271821, 35), (2271821, 4)\n",
      "4 files processed\n",
      "0 files skipped\n",
      "Total events 2277301\n",
      "Dataset Successfully weighted\n",
      "saving dataset\n",
      "Dataset Successfully saved\n"
     ]
    }
   ],
   "source": [
    "dataset = DatasetMass(file_name = \"Data_test\")\n",
    "dataset.build_dataset()\n",
    "dataset.save_data()\n",
    "\n"
   ]
  },
  {
   "cell_type": "code",
   "execution_count": 23,
   "metadata": {},
   "outputs": [
    {
     "name": "stdout",
     "output_type": "stream",
     "text": [
      "(1000, 35)\n",
      "tf.Tensor(\n",
      "[[ 33.227985    1.8544023   3.060849  ...   0.          1.\n",
      "    1.       ]\n",
      " [ 52.85285    -1.5960264  -2.898494  ...   0.          1.\n",
      "    1.       ]\n",
      " [ 34.86298     0.8143332   1.0132009 ...   1.          0.\n",
      "    1.       ]\n",
      " ...\n",
      " [114.42966    -1.9347937  -1.4136082 ...   0.          1.\n",
      "    1.       ]\n",
      " [ 47.927074    2.1533992   3.106295  ...   0.          1.\n",
      "    1.       ]\n",
      " [226.94508    -1.3582363   1.4977618 ...   1.          0.\n",
      "    1.       ]], shape=(1000, 35), dtype=float32)\n"
     ]
    },
    {
     "data": {
      "image/png": "[encoded data removed]",
      "text/plain": [
       "<Figure size 640x480 with 1 Axes>"
      ]
     },
     "metadata": {},
     "output_type": "display_data"
    }
   ],
   "source": [
    "dataset.make_slices(n_slices=20)\n",
    "slices = dataset.slices   \n",
    "\n",
    "lorentz_mask = tf.constant(dataset.get_lorentz_mask())  # Shape [35] bool values\n",
    "lorentz_indices = tf.squeeze(tf.where(lorentz_mask), axis=1) # [0 1 2 3 4 5 6 7 13 14 ...] \n",
    "n_vectors = tf.shape(lorentz_indices)[0] // 4 # number of 4-vectors\n",
    "lorentz_indices_4d = tf.reshape(lorentz_indices, (n_vectors, 4))  # [n_vectors, 4]\n",
    "\n",
    "@tf.function\n",
    "def augment_lorentz(data, target):\n",
    "    beta = tf.random.uniform(shape = (), minval=0.0, maxval=1.0) # Shape ()\n",
    "    gamma = 1.0 / tf.sqrt(1.0 - beta**2) # Shape ()\n",
    "    \n",
    "    for i in range(n_vectors):\n",
    "        vec_indices = lorentz_indices_4d[i] # Shape (4,)\n",
    "        pt = data[vec_indices[0]] # scalar values\n",
    "        eta = data[vec_indices[1]]\n",
    "        phi = data[vec_indices[2]]\n",
    "        E = data[vec_indices[3]]\n",
    "        #print(E.shape)\n",
    "        \n",
    "        # Convert to Cartesian coordinates\n",
    "        #px = pt * tf.cos(phi)\n",
    "        #py = pt * tf.sin(phi)\n",
    "        pz = pt * tf.sinh(eta) # Shape ()\n",
    "    \n",
    "        #TODO  c == 1 ? \n",
    "        E_prime = gamma * (E - beta * pz) # Shape ()\n",
    "        pz_prime = gamma * (pz - beta * E) \n",
    "        \n",
    "        epsilon = 1e-8\n",
    "        eta_prime = tf.asinh(pz_prime / (pt + epsilon)) # Shape ()\n",
    "\n",
    "        update_indices = tf.reshape(vec_indices, [-1, 1])  # Shape (4, 1)\n",
    "        update_values = tf.stack([pt, eta_prime, phi, E_prime]) # Shape (4,)\n",
    "        # Update the tensor\n",
    "        data = tf.tensor_scatter_nd_update(\n",
    "            data,\n",
    "            indices=update_indices,\n",
    "            updates=update_values\n",
    "        )\n",
    "        #print(data.shape)\n",
    "        \n",
    "    return data, target\n",
    "\n",
    "n_events = 1000\n",
    "new_dataset = tf.data.Dataset.sample_from_datasets([s.repeat() for s in slices], weights=[1.]*len(slices))\n",
    "new_dataset = new_dataset.take(n_events)\n",
    "\n",
    "new_dataset = new_dataset.map(augment_lorentz)\n",
    "batch_dataset = new_dataset.batch(n_events)\n",
    "\n",
    "features, masses = next(iter(batch_dataset))\n",
    "print(features.shape)\n",
    "print(features)\n",
    "\n",
    "plt.hist(masses, range=(70, 130), bins=50)\n",
    "plt.show()\n",
    "\n"
   ]
  },
  {
   "cell_type": "code",
   "execution_count": 22,
   "metadata": {},
   "outputs": [
    {
     "name": "stdout",
     "output_type": "stream",
     "text": [
      "(1, 35, 35)\n",
      "tf.Tensor(\n",
      "[[[33.45006    0.4904686 -1.0283544 ...  0.         1.         1.       ]\n",
      "  [33.45006    0.4904686 -2.8740354 ...  0.         1.         1.       ]\n",
      "  [33.45006    0.4904686 -2.5219815 ...  0.         1.         1.       ]\n",
      "  ...\n",
      "  [33.45006    0.4904686 -1.0353211 ...  0.         1.         1.       ]\n",
      "  [33.45006    0.4904686  2.1112525 ...  0.         1.         1.       ]\n",
      "  [33.45006    0.4904686 -2.5103178 ...  0.         1.         1.       ]]], shape=(1, 35, 35), dtype=float32)\n"
     ]
    },
    {
     "data": {
      "image/png": "[encoded data removed]",
      "text/plain": [
       "<Figure size 640x480 with 1 Axes>"
      ]
     },
     "metadata": {},
     "output_type": "display_data"
    }
   ],
   "source": [
    "dataset.make_slices(n_slices=2)\n",
    "slices = dataset.slices \n",
    "phi_mask = tf.constant(dataset.get_phi_mask())\n",
    "\n",
    "@tf.function\n",
    "def augment_phi(data, target):\n",
    "    # generate random rotation angle\n",
    "    angle = tf.random.uniform(shape=(tf.shape(data)[0],), minval=-np.pi, maxval=np.pi)\n",
    "    # apply rotation\n",
    "    data  = tf.where(phi_mask[tf.newaxis, :], data + angle[:, tf.newaxis], data)\n",
    "    \n",
    "    # normalize angles between -pi and pi\n",
    "    data = tf.where(phi_mask[tf.newaxis, :], tf.math.atan2(tf.sin(data), tf.cos(data)), data)\n",
    "    \n",
    "    return data, target\n",
    "\n",
    "# sample from the slices\n",
    "n_events = 1\n",
    "new_dataset = tf.data.Dataset.sample_from_datasets([s.repeat() for s in slices], weights=[1.]*len(slices))\n",
    "new_dataset = new_dataset.take(n_events)\n",
    "\n",
    "# apply augmentation\n",
    "new_dataset = new_dataset.map(augment_phi)\n",
    "batch_dataset = new_dataset.batch(n_events)\n",
    "features, masses = next(iter(batch_dataset))\n",
    "print(features.shape)\n",
    "print(features)\n",
    "\n",
    "plt.hist(masses, range=(70, 130), bins=50)\n",
    "plt.show()\n",
    "\n",
    "\n"
   ]
  },
  {
   "cell_type": "code",
   "execution_count": null,
   "metadata": {},
   "outputs": [
    {
     "name": "stdout",
     "output_type": "stream",
     "text": [
      "6523673\n",
      "Batching datasets...\n",
      "Building model...\n",
      "Training model...\n",
      "Epoch 1/10\n"
     ]
    },
    {
     "name": "stderr",
     "output_type": "stream",
     "text": [
      "2025-01-29 01:07:34.276361: I tensorflow/core/framework/local_rendezvous.cc:405] Local rendezvous is aborting with status: OUT_OF_RANGE: End of sequence\n"
     ]
    },
    {
     "name": "stdout",
     "output_type": "stream",
     "text": [
      "\u001b[1m203865/203865\u001b[0m \u001b[32m━━━━━━━━━━━━━━━━━━━━\u001b[0m\u001b[37m\u001b[0m \u001b[1m220s\u001b[0m 1ms/step - loss: 6972.8779 - mean_squared_error: 6972.8779 - val_loss: 6874.8071 - val_mean_squared_error: 6874.8286\n",
      "Epoch 2/10\n",
      "\u001b[1m203825/203865\u001b[0m \u001b[32m━━━━━━━━━━━━━━━━━━━\u001b[0m\u001b[37m━\u001b[0m \u001b[1m0s\u001b[0m 919us/step - loss: 6946.1182 - mean_squared_error: 6946.1182"
     ]
    }
   ],
   "source": [
    "dataset = Dataset(file_paths=erik_data, file_name = \"erik_data\")\n",
    "dataset.load_data()\n",
    "\n",
    "print(len(dataset.train_dataset))\n",
    "param_grid = {\n",
    "    'batch_size': [32, 64, 128],\n",
    "    'learning_rate': [0.001, 0.01, 0.1],\n",
    "    'epochs': [10, 20, 30]\n",
    "}\n",
    "\n",
    "iterable = list(itertools.product(*param_grid.values()))\n",
    "for params in iterable:\n",
    "    model = RegressionModel(dataset=dataset, batch_size=params[0], initial_learning_rate=params[1], n_epochs=params[2])\n",
    "    model.prepare_dataset()\n",
    "    model.create_normalizer()\n",
    "    model.build_model()\n",
    "    model.train_model(model.train_batch, model.val_batch)\n",
    "    model.plot_history(model.history)"
   ]
  }
 ],
 "metadata": {
  "kernelspec": {
   "display_name": "tf gpu",
   "language": "python",
   "name": "tf"
  },
  "language_info": {
   "codemirror_mode": {
    "name": "ipython",
    "version": 3
   },
   "file_extension": ".py",
   "mimetype": "text/x-python",
   "name": "python",
   "nbconvert_exporter": "python",
   "pygments_lexer": "ipython3",
   "version": "3.11.0rc1"
  }
 },
 "nbformat": 4,
 "nbformat_minor": 2
}
